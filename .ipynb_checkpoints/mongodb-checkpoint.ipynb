{
 "metadata": {
  "name": "",
  "signature": "sha256:e98dc5ebc0727014de96f10217a5bd1d2f6f8118636c6eec493f8196937cbc5a"
 },
 "nbformat": 3,
 "nbformat_minor": 0,
 "worksheets": [
  {
   "cells": [
    {
     "cell_type": "heading",
     "level": 1,
     "metadata": {},
     "source": [
      "use this to solve start mongodb\n",
      "http://www.marcusoft.net/2014/05/mongodb-and-10309-unable-to-createopen.html"
     ]
    },
    {
     "cell_type": "code",
     "collapsed": false,
     "input": [
      "#DB SETUP\n",
      "\n",
      "from pymongo import MongoClient\n",
      "\n",
      "\n",
      "import pprint\n",
      "client = MongoClient('mongodb://localhost:27017')\n",
      "db = client.musicfan"
     ],
     "language": "python",
     "metadata": {},
     "outputs": [],
     "prompt_number": 162
    },
    {
     "cell_type": "markdown",
     "metadata": {},
     "source": [
      "creat instance and insert data   ||json format description http://dataprotocols.org/json-table-schema/"
     ]
    },
    {
     "cell_type": "markdown",
     "metadata": {},
     "source": [
      "# CRUD function for recommendation system\n",
      "In MongoDB, the primary key is automatically created and assigned to the _id field. If you do not specify the _id field, it will be auto-generated for you. The _id field is always indexed and always unique.\n",
      "You can't change this, the behaviour is baked in to MongoDB."
     ]
    },
    {
     "cell_type": "code",
     "collapsed": false,
     "input": [
      "\n",
      "#CRUD functionality for recommendation system\n",
      "\n",
      "def user_create(uid,name,email,pw):\n",
      "    #schema for user instance\n",
      "    #UID name email pw \n",
      "    #email should be unique\n",
      "    '''\n",
      "    input:\n",
      "    uid = 0\n",
      "    name = 'john'\n",
      "    email = 'john@gmail.com'\n",
      "    pw = 'john1111'\n",
      "    '''\n",
      "    User={\n",
      "    \"UID\":uid,\n",
      "    \"Name\":name,\n",
      "    \"Email\":email,\n",
      "    \"PW\":pw\n",
      "    }\n",
      "    db.user.insert(User)\n",
      "\n",
      "db.user.create_index((\"Email\"),unique=True)\n",
      "\n",
      "\n",
      "def rating_create(UID,ItemID,time):\n",
      "    #schema for rating instance\n",
      "    #UID ItemID rating   (UID and ItemID is primary key)\n",
      "    # here I set a initial for UID ItemID test time, time can be return from the webpage side\n",
      "    \"\"\"\n",
      "    input:\n",
      "    UID =  32\n",
      "    ItemID =  0\n",
      "    time = 1600\n",
      "    \"\"\"\n",
      "    \n",
      "    if time < 5:\n",
      "        rating = 0\n",
      "    elif 5<=time and time < 60:\n",
      "        rating = 1\n",
      "    elif 60<=time and time < 120:\n",
      "        rating = 2    \n",
      "    elif 120<=time and time < 180:\n",
      "        rating = 3\n",
      "    elif 180<=time and time  < 240:\n",
      "        rating = 4\n",
      "    elif 240<=time :\n",
      "        rating = 5    \n",
      "    Rating = {\"UID\":UID,\n",
      "              \"ItemID\":ItemID,\n",
      "              \"Rating\":rating}\n",
      "    db.rating.insert(Rating)\n",
      "db.rating.create_index([(\"UID\", pymongo.ASCENDING),(\"ItemID\", pymongo.ASCENDING)],unique=True)\n",
      "\n",
      "def item_create(itemID,url,avatar):\n",
      "\n",
      "    #itemID(primary key) url avatar\n",
      "    \"\"\"\n",
      "    input:\n",
      "    itemID=10\n",
      "    url =\"https://www.udacity.com/course/viewer#!/c-ud032/l-745498943/m-734730655\" \n",
      "    tn = \"http://lh3.ggpht.com/ll9ungBQPIwG1u5WHYyB_q-CO6gAzJC-fT3xotaS5DV3UbNZ7Xdz6b5T3Jpl7aEfmVEY2gjvkkt7KzWVeIo=s0\"\n",
      "    \"\"\"\n",
      "    Item = {\n",
      "    \"ItemID\":itemID,\n",
      "    \"Url\":url,\n",
      "    \"Thumbnail\":tn\n",
      "    }\n",
      "    db.item.insert(Item)\n",
      "db.item.create_index((\"ItemID\"),unique=True)\n",
      "\n",
      "\n",
      "\n"
     ],
     "language": "python",
     "metadata": {},
     "outputs": [
      {
       "ename": "DuplicateKeyError",
       "evalue": "exception: E11000 duplicate key error index: musicfan.item.$ItemID_1 dup key: { : 10 }",
       "output_type": "pyerr",
       "traceback": [
        "\u001b[0;31m---------------------------------------------------------------------------\u001b[0m\n\u001b[0;31mDuplicateKeyError\u001b[0m                         Traceback (most recent call last)",
        "\u001b[0;32m<ipython-input-163-912a3640af59>\u001b[0m in \u001b[0;36m<module>\u001b[0;34m()\u001b[0m\n\u001b[1;32m     68\u001b[0m     }\n\u001b[1;32m     69\u001b[0m     \u001b[0mdb\u001b[0m\u001b[0;34m.\u001b[0m\u001b[0mitem\u001b[0m\u001b[0;34m.\u001b[0m\u001b[0minsert\u001b[0m\u001b[0;34m(\u001b[0m\u001b[0mItem\u001b[0m\u001b[0;34m)\u001b[0m\u001b[0;34m\u001b[0m\u001b[0m\n\u001b[0;32m---> 70\u001b[0;31m \u001b[0mdb\u001b[0m\u001b[0;34m.\u001b[0m\u001b[0mitem\u001b[0m\u001b[0;34m.\u001b[0m\u001b[0mcreate_index\u001b[0m\u001b[0;34m(\u001b[0m\u001b[0;34m(\u001b[0m\u001b[0;34m\"ItemID\"\u001b[0m\u001b[0;34m)\u001b[0m\u001b[0;34m,\u001b[0m\u001b[0munique\u001b[0m\u001b[0;34m=\u001b[0m\u001b[0mTrue\u001b[0m\u001b[0;34m)\u001b[0m\u001b[0;34m\u001b[0m\u001b[0m\n\u001b[0m\u001b[1;32m     71\u001b[0m \u001b[0;34m\u001b[0m\u001b[0m\n\u001b[1;32m     72\u001b[0m \u001b[0;34m\u001b[0m\u001b[0m\n",
        "\u001b[0;32m/usr/local/Cellar/python/2.7.8_1/Frameworks/Python.framework/Versions/2.7/lib/python2.7/site-packages/pymongo/collection.pyc\u001b[0m in \u001b[0;36mcreate_index\u001b[0;34m(self, keys, **kwargs)\u001b[0m\n\u001b[1;32m   1152\u001b[0m         \u001b[0mkeys\u001b[0m \u001b[0;34m=\u001b[0m \u001b[0mhelpers\u001b[0m\u001b[0;34m.\u001b[0m\u001b[0m_index_list\u001b[0m\u001b[0;34m(\u001b[0m\u001b[0mkeys\u001b[0m\u001b[0;34m)\u001b[0m\u001b[0;34m\u001b[0m\u001b[0m\n\u001b[1;32m   1153\u001b[0m         \u001b[0mname\u001b[0m \u001b[0;34m=\u001b[0m \u001b[0mkwargs\u001b[0m\u001b[0;34m.\u001b[0m\u001b[0msetdefault\u001b[0m\u001b[0;34m(\u001b[0m\u001b[0;34m\"name\"\u001b[0m\u001b[0;34m,\u001b[0m \u001b[0mhelpers\u001b[0m\u001b[0;34m.\u001b[0m\u001b[0m_gen_index_name\u001b[0m\u001b[0;34m(\u001b[0m\u001b[0mkeys\u001b[0m\u001b[0;34m)\u001b[0m\u001b[0;34m)\u001b[0m\u001b[0;34m\u001b[0m\u001b[0m\n\u001b[0;32m-> 1154\u001b[0;31m         \u001b[0mself\u001b[0m\u001b[0;34m.\u001b[0m\u001b[0m__create_index\u001b[0m\u001b[0;34m(\u001b[0m\u001b[0mkeys\u001b[0m\u001b[0;34m,\u001b[0m \u001b[0mkwargs\u001b[0m\u001b[0;34m)\u001b[0m\u001b[0;34m\u001b[0m\u001b[0m\n\u001b[0m\u001b[1;32m   1155\u001b[0m         \u001b[0;32mreturn\u001b[0m \u001b[0mname\u001b[0m\u001b[0;34m\u001b[0m\u001b[0m\n\u001b[1;32m   1156\u001b[0m \u001b[0;34m\u001b[0m\u001b[0m\n",
        "\u001b[0;32m/usr/local/Cellar/python/2.7.8_1/Frameworks/Python.framework/Versions/2.7/lib/python2.7/site-packages/pymongo/collection.pyc\u001b[0m in \u001b[0;36m__create_index\u001b[0;34m(self, keys, index_options)\u001b[0m\n\u001b[1;32m   1067\u001b[0m             \u001b[0;32mtry\u001b[0m\u001b[0;34m:\u001b[0m\u001b[0;34m\u001b[0m\u001b[0m\n\u001b[1;32m   1068\u001b[0m                 self._command(\n\u001b[0;32m-> 1069\u001b[0;31m                     sock_info, cmd, read_preference=ReadPreference.PRIMARY)\n\u001b[0m\u001b[1;32m   1070\u001b[0m             \u001b[0;32mexcept\u001b[0m \u001b[0mOperationFailure\u001b[0m \u001b[0;32mas\u001b[0m \u001b[0mexc\u001b[0m\u001b[0;34m:\u001b[0m\u001b[0;34m\u001b[0m\u001b[0m\n\u001b[1;32m   1071\u001b[0m                 \u001b[0;32mif\u001b[0m \u001b[0mexc\u001b[0m\u001b[0;34m.\u001b[0m\u001b[0mcode\u001b[0m \u001b[0;32min\u001b[0m \u001b[0mcommon\u001b[0m\u001b[0;34m.\u001b[0m\u001b[0mCOMMAND_NOT_FOUND_CODES\u001b[0m\u001b[0;34m:\u001b[0m\u001b[0;34m\u001b[0m\u001b[0m\n",
        "\u001b[0;32m/usr/local/Cellar/python/2.7.8_1/Frameworks/Python.framework/Versions/2.7/lib/python2.7/site-packages/pymongo/collection.pyc\u001b[0m in \u001b[0;36m_command\u001b[0;34m(self, sock_info, command, slave_ok, read_preference, codec_options, check, allowable_errors)\u001b[0m\n\u001b[1;32m    189\u001b[0m                                  \u001b[0mcodec_options\u001b[0m \u001b[0;32mor\u001b[0m \u001b[0mself\u001b[0m\u001b[0;34m.\u001b[0m\u001b[0mcodec_options\u001b[0m\u001b[0;34m,\u001b[0m\u001b[0;34m\u001b[0m\u001b[0m\n\u001b[1;32m    190\u001b[0m                                  \u001b[0mcheck\u001b[0m\u001b[0;34m,\u001b[0m\u001b[0;34m\u001b[0m\u001b[0m\n\u001b[0;32m--> 191\u001b[0;31m                                  allowable_errors)\n\u001b[0m\u001b[1;32m    192\u001b[0m \u001b[0;34m\u001b[0m\u001b[0m\n\u001b[1;32m    193\u001b[0m     \u001b[0;32mdef\u001b[0m \u001b[0m__create\u001b[0m\u001b[0;34m(\u001b[0m\u001b[0mself\u001b[0m\u001b[0;34m,\u001b[0m \u001b[0moptions\u001b[0m\u001b[0;34m)\u001b[0m\u001b[0;34m:\u001b[0m\u001b[0;34m\u001b[0m\u001b[0m\n",
        "\u001b[0;32m/usr/local/Cellar/python/2.7.8_1/Frameworks/Python.framework/Versions/2.7/lib/python2.7/site-packages/pymongo/pool.pyc\u001b[0m in \u001b[0;36mcommand\u001b[0;34m(self, dbname, spec, slave_ok, read_preference, codec_options, check, allowable_errors)\u001b[0m\n\u001b[1;32m    182\u001b[0m             return command(self.sock, dbname, spec,\n\u001b[1;32m    183\u001b[0m                            \u001b[0mslave_ok\u001b[0m\u001b[0;34m,\u001b[0m \u001b[0mself\u001b[0m\u001b[0;34m.\u001b[0m\u001b[0mis_mongos\u001b[0m\u001b[0;34m,\u001b[0m \u001b[0mread_preference\u001b[0m\u001b[0;34m,\u001b[0m\u001b[0;34m\u001b[0m\u001b[0m\n\u001b[0;32m--> 184\u001b[0;31m                            codec_options, check, allowable_errors)\n\u001b[0m\u001b[1;32m    185\u001b[0m         \u001b[0;32mexcept\u001b[0m \u001b[0mOperationFailure\u001b[0m\u001b[0;34m:\u001b[0m\u001b[0;34m\u001b[0m\u001b[0m\n\u001b[1;32m    186\u001b[0m             \u001b[0;32mraise\u001b[0m\u001b[0;34m\u001b[0m\u001b[0m\n",
        "\u001b[0;32m/usr/local/Cellar/python/2.7.8_1/Frameworks/Python.framework/Versions/2.7/lib/python2.7/site-packages/pymongo/network.pyc\u001b[0m in \u001b[0;36mcommand\u001b[0;34m(sock, dbname, spec, slave_ok, is_mongos, read_preference, codec_options, check, allowable_errors)\u001b[0m\n\u001b[1;32m     52\u001b[0m         repr(spec).replace(\"%\", \"%%\"), ns)\n\u001b[1;32m     53\u001b[0m     \u001b[0;32mif\u001b[0m \u001b[0mcheck\u001b[0m\u001b[0;34m:\u001b[0m\u001b[0;34m\u001b[0m\u001b[0m\n\u001b[0;32m---> 54\u001b[0;31m         \u001b[0mhelpers\u001b[0m\u001b[0;34m.\u001b[0m\u001b[0m_check_command_response\u001b[0m\u001b[0;34m(\u001b[0m\u001b[0mresponse_doc\u001b[0m\u001b[0;34m,\u001b[0m \u001b[0mmsg\u001b[0m\u001b[0;34m,\u001b[0m \u001b[0mallowable_errors\u001b[0m\u001b[0;34m)\u001b[0m\u001b[0;34m\u001b[0m\u001b[0m\n\u001b[0m\u001b[1;32m     55\u001b[0m     \u001b[0;32mreturn\u001b[0m \u001b[0mresponse_doc\u001b[0m\u001b[0;34m\u001b[0m\u001b[0m\n\u001b[1;32m     56\u001b[0m \u001b[0;34m\u001b[0m\u001b[0m\n",
        "\u001b[0;32m/usr/local/Cellar/python/2.7.8_1/Frameworks/Python.framework/Versions/2.7/lib/python2.7/site-packages/pymongo/helpers.pyc\u001b[0m in \u001b[0;36m_check_command_response\u001b[0;34m(response, msg, allowable_errors)\u001b[0m\n\u001b[1;32m    181\u001b[0m             \u001b[0;31m# findAndModify with upsert can raise duplicate key error\u001b[0m\u001b[0;34m\u001b[0m\u001b[0;34m\u001b[0m\u001b[0m\n\u001b[1;32m    182\u001b[0m             \u001b[0;32mif\u001b[0m \u001b[0mcode\u001b[0m \u001b[0;32min\u001b[0m \u001b[0;34m(\u001b[0m\u001b[0;36m11000\u001b[0m\u001b[0;34m,\u001b[0m \u001b[0;36m11001\u001b[0m\u001b[0;34m,\u001b[0m \u001b[0;36m12582\u001b[0m\u001b[0;34m)\u001b[0m\u001b[0;34m:\u001b[0m\u001b[0;34m\u001b[0m\u001b[0m\n\u001b[0;32m--> 183\u001b[0;31m                 \u001b[0;32mraise\u001b[0m \u001b[0mDuplicateKeyError\u001b[0m\u001b[0;34m(\u001b[0m\u001b[0merrmsg\u001b[0m\u001b[0;34m,\u001b[0m \u001b[0mcode\u001b[0m\u001b[0;34m,\u001b[0m \u001b[0mresponse\u001b[0m\u001b[0;34m)\u001b[0m\u001b[0;34m\u001b[0m\u001b[0m\n\u001b[0m\u001b[1;32m    184\u001b[0m             \u001b[0;32melif\u001b[0m \u001b[0mcode\u001b[0m \u001b[0;34m==\u001b[0m \u001b[0;36m50\u001b[0m\u001b[0;34m:\u001b[0m\u001b[0;34m\u001b[0m\u001b[0m\n\u001b[1;32m    185\u001b[0m                 \u001b[0;32mraise\u001b[0m \u001b[0mExecutionTimeout\u001b[0m\u001b[0;34m(\u001b[0m\u001b[0merrmsg\u001b[0m\u001b[0;34m,\u001b[0m \u001b[0mcode\u001b[0m\u001b[0;34m,\u001b[0m \u001b[0mresponse\u001b[0m\u001b[0;34m)\u001b[0m\u001b[0;34m\u001b[0m\u001b[0m\n",
        "\u001b[0;31mDuplicateKeyError\u001b[0m: exception: E11000 duplicate key error index: musicfan.item.$ItemID_1 dup key: { : 10 }"
       ]
      }
     ],
     "prompt_number": 163
    },
    {
     "cell_type": "markdown",
     "metadata": {},
     "source": [
      "query in db, notice when we do collaborative filtering, we only need to convert the rating instance from json to csv for graphlab to conduct the computing for the CF matrix. In this context, we only care about query item that we can retrieve to send to recommendation system rendering side. "
     ]
    },
    {
     "cell_type": "code",
     "collapsed": false,
     "input": [
      "#Query in db, notice when we do collaborative filtering, we only need to convert \n",
      "#the rating instance from json to csv for graphlab to conduct the computing for the CF matrix. \n",
      "#In this context, we only care about query item that we can retrieve to send to recommendation system rendering side.\n",
      "def find_item(itemID):\n",
      "    item =  db.item.find({\"ItemID\":itemID})\n",
      "    return item\n"
     ],
     "language": "python",
     "metadata": {},
     "outputs": []
    },
    {
     "cell_type": "markdown",
     "metadata": {},
     "source": [
      "update db"
     ]
    },
    {
     "cell_type": "code",
     "collapsed": false,
     "input": [
      "def user_update(uid,name=None,email=None,pw=None):\n",
      "    User = db.user.find_one({\"UID\":uid})\n",
      "    if ((name and email and pw )is None):\n",
      "        raise IOError(\"Nothing to update.\")\n",
      "    if (name is not None):\n",
      "        User[\"Name\"] = name\n",
      "    if (email is not None):\n",
      "        User[\"Email\"] = email\n",
      "    if (pw is not None):\n",
      "        User[\"PW\"]=pw\n",
      "def item_update(itemID,url=None,avatar=None):\n",
      "    User = db.item.find_one({\"ItemID\":itemID})\n",
      "    if ((url and avartar)is None):\n",
      "        raise IOError(\"Nothing to update.\")\n",
      "    if (url is not None):\n",
      "        User[\"Url\"] = url\n",
      "    if (avatar is not None):\n",
      "        User[\"Avatar\"] = avatar\n",
      "    \n",
      "\n",
      "def rating_update(uid,itemID,rating):\n",
      "    User = db.rating.find_one({\"UID\":uid, \"ItemID\":itemID})\n",
      "    User[\"Rating\"]=rating       \n",
      "\n"
     ],
     "language": "python",
     "metadata": {},
     "outputs": []
    },
    {
     "cell_type": "code",
     "collapsed": false,
     "input": [
      "#For the remove option, since we value all the info we saved here, this option will be implemented when needed.\n",
      "#Be careful when remove all, this will cause your entire data lost.\n",
      "def item_remove_all():\n",
      "    \"\"\"\n",
      "    remove all item in db\n",
      "    \"\"\"\n",
      "    db.item.drop()\n",
      "def user_remove_all():\n",
      "    \"\"\"\n",
      "    remove all user in db\n",
      "    \"\"\"\n",
      "    db.user.drop() \n",
      "def rating_remove_all():\n",
      "    \"\"\"\n",
      "    remove all rating in db\n",
      "    \"\"\"\n",
      "    db.rating.drop()     \n"
     ],
     "language": "python",
     "metadata": {},
     "outputs": []
    },
    {
     "cell_type": "code",
     "collapsed": false,
     "input": [
      "#test another problem is the id problem, unique find in mongodb\n",
      "\n",
      "itemID=10\n",
      "url =\"https://www.udacity.com/course/viewer#!/c-ud032/l-745498943/m-734730655\" \n",
      "tn = \"http://lh3.ggpht.com/ll9ungBQPIwG1u5WHYyB_q-CO6gAzJC-fT3xotaS5DV3UbNZ7Xdz6b5T3Jpl7aEfmVEY2gjvkkt7KzWVeIo=s0\"\n",
      "item_create(itemID,url,tn)\n",
      "\n",
      "type(db.rating)\n",
      "for a in db.rating.find():\n",
      "    pprint.pprint(a)"
     ],
     "language": "python",
     "metadata": {},
     "outputs": []
    },
    {
     "cell_type": "markdown",
     "metadata": {},
     "source": [
      "#the next function need to be implement is the output db.rating to the graphlab in csv format "
     ]
    },
    {
     "cell_type": "code",
     "collapsed": false,
     "input": [
      "import csv\n",
      "def rating_output_csv(db):\n",
      "    \"\"\"input:\n",
      "        db.collection.collection\n",
      "       output:\n",
      "        the csv path in the system with csv containing UID, ItemID, Rating\n",
      "    \"\"\"\n",
      "    query ={\"_id\":{\"$exists\":1}}\n",
      "    projection ={\"_id\":0,\"UID\":1,\"ItemID\":1,\"Rating\":1}\n",
      "    ratings = db.rating.find(query,projection)\n",
      "    \n",
      "    with open('rating.csv', 'wb') as csvfile:\n",
      "        ratingwriter = csv.writer(csvfile)\n",
      "        ratingwriter.writerow(['UID','ItemID','Rating'])\n",
      "        for a in ratings:\n",
      "            ratingwriter.writerow([a[\"UID\"],a[\"ItemID\"],a[\"Rating\"]])\n",
      "        \n",
      "    #print type(csvfile)\n",
      "rating_output_csv(db)"
     ],
     "language": "python",
     "metadata": {},
     "outputs": [],
     "prompt_number": 188
    },
    {
     "cell_type": "code",
     "collapsed": false,
     "input": [],
     "language": "python",
     "metadata": {},
     "outputs": [],
     "prompt_number": 188
    },
    {
     "cell_type": "code",
     "collapsed": false,
     "input": [],
     "language": "python",
     "metadata": {},
     "outputs": []
    }
   ],
   "metadata": {}
  }
 ]
}