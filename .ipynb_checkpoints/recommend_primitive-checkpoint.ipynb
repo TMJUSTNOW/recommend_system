{
 "metadata": {
  "name": "",
  "signature": "sha256:58400608e11a9b2a2b5e4a126d11cf8b4f568efb667feb7f180b008e782cb4dd"
 },
 "nbformat": 3,
 "nbformat_minor": 0,
 "worksheets": [
  {
   "cells": [
    {
     "cell_type": "code",
     "collapsed": false,
     "input": [
      "import graphlab\n",
      "import datetime\n",
      " \n",
      "data = graphlab.SFrame.read_csv(\"rating.csv\", column_type_hints={\"Rating\":int})\n",
      "#data.head()\n"
     ],
     "language": "python",
     "metadata": {},
     "outputs": [
      {
       "html": [
        "<pre>PROGRESS: Finished parsing file /Users/Aaron/CF/rating.csv</pre>"
       ],
       "metadata": {},
       "output_type": "display_data",
       "text": [
        "PROGRESS: Finished parsing file /Users/Aaron/CF/rating.csv"
       ]
      },
      {
       "html": [
        "<pre>PROGRESS: Parsing completed. Parsed 501 lines in 0.014282 secs.</pre>"
       ],
       "metadata": {},
       "output_type": "display_data",
       "text": [
        "PROGRESS: Parsing completed. Parsed 501 lines in 0.014282 secs."
       ]
      },
      {
       "html": [
        "<div style=\"max-height:1000px;max-width:1500px;overflow:auto;\"><table frame=\"box\" rules=\"cols\">\n",
        "    <tr>\n",
        "        <th style=\"padding-left: 1em; padding-right: 1em; text-align: center\">UID</th>\n",
        "        <th style=\"padding-left: 1em; padding-right: 1em; text-align: center\">ItemID</th>\n",
        "        <th style=\"padding-left: 1em; padding-right: 1em; text-align: center\">Rating</th>\n",
        "    </tr>\n",
        "    <tr>\n",
        "        <td style=\"padding-left: 1em; padding-right: 1em; text-align: center; vertical-align: top\">48</td>\n",
        "        <td style=\"padding-left: 1em; padding-right: 1em; text-align: center; vertical-align: top\">6327</td>\n",
        "        <td style=\"padding-left: 1em; padding-right: 1em; text-align: center; vertical-align: top\">0</td>\n",
        "    </tr>\n",
        "    <tr>\n",
        "        <td style=\"padding-left: 1em; padding-right: 1em; text-align: center; vertical-align: top\">522</td>\n",
        "        <td style=\"padding-left: 1em; padding-right: 1em; text-align: center; vertical-align: top\">3634</td>\n",
        "        <td style=\"padding-left: 1em; padding-right: 1em; text-align: center; vertical-align: top\">5</td>\n",
        "    </tr>\n",
        "    <tr>\n",
        "        <td style=\"padding-left: 1em; padding-right: 1em; text-align: center; vertical-align: top\">469</td>\n",
        "        <td style=\"padding-left: 1em; padding-right: 1em; text-align: center; vertical-align: top\">289</td>\n",
        "        <td style=\"padding-left: 1em; padding-right: 1em; text-align: center; vertical-align: top\">5</td>\n",
        "    </tr>\n",
        "    <tr>\n",
        "        <td style=\"padding-left: 1em; padding-right: 1em; text-align: center; vertical-align: top\">171</td>\n",
        "        <td style=\"padding-left: 1em; padding-right: 1em; text-align: center; vertical-align: top\">5503</td>\n",
        "        <td style=\"padding-left: 1em; padding-right: 1em; text-align: center; vertical-align: top\">5</td>\n",
        "    </tr>\n",
        "    <tr>\n",
        "        <td style=\"padding-left: 1em; padding-right: 1em; text-align: center; vertical-align: top\">76</td>\n",
        "        <td style=\"padding-left: 1em; padding-right: 1em; text-align: center; vertical-align: top\">9465</td>\n",
        "        <td style=\"padding-left: 1em; padding-right: 1em; text-align: center; vertical-align: top\">5</td>\n",
        "    </tr>\n",
        "    <tr>\n",
        "        <td style=\"padding-left: 1em; padding-right: 1em; text-align: center; vertical-align: top\">164</td>\n",
        "        <td style=\"padding-left: 1em; padding-right: 1em; text-align: center; vertical-align: top\">2765</td>\n",
        "        <td style=\"padding-left: 1em; padding-right: 1em; text-align: center; vertical-align: top\">5</td>\n",
        "    </tr>\n",
        "    <tr>\n",
        "        <td style=\"padding-left: 1em; padding-right: 1em; text-align: center; vertical-align: top\">408</td>\n",
        "        <td style=\"padding-left: 1em; padding-right: 1em; text-align: center; vertical-align: top\">6071</td>\n",
        "        <td style=\"padding-left: 1em; padding-right: 1em; text-align: center; vertical-align: top\">5</td>\n",
        "    </tr>\n",
        "    <tr>\n",
        "        <td style=\"padding-left: 1em; padding-right: 1em; text-align: center; vertical-align: top\">150</td>\n",
        "        <td style=\"padding-left: 1em; padding-right: 1em; text-align: center; vertical-align: top\">2120</td>\n",
        "        <td style=\"padding-left: 1em; padding-right: 1em; text-align: center; vertical-align: top\">5</td>\n",
        "    </tr>\n",
        "    <tr>\n",
        "        <td style=\"padding-left: 1em; padding-right: 1em; text-align: center; vertical-align: top\">849</td>\n",
        "        <td style=\"padding-left: 1em; padding-right: 1em; text-align: center; vertical-align: top\">8077</td>\n",
        "        <td style=\"padding-left: 1em; padding-right: 1em; text-align: center; vertical-align: top\">5</td>\n",
        "    </tr>\n",
        "    <tr>\n",
        "        <td style=\"padding-left: 1em; padding-right: 1em; text-align: center; vertical-align: top\">602</td>\n",
        "        <td style=\"padding-left: 1em; padding-right: 1em; text-align: center; vertical-align: top\">1405</td>\n",
        "        <td style=\"padding-left: 1em; padding-right: 1em; text-align: center; vertical-align: top\">5</td>\n",
        "    </tr>\n",
        "</table>\n",
        "[10 rows x 3 columns]<br/>\n",
        "</div>"
       ],
       "metadata": {},
       "output_type": "pyout",
       "prompt_number": 13,
       "text": [
        "Columns:\n",
        "\tUID\tstr\n",
        "\tItemID\tstr\n",
        "\tRating\tint\n",
        "\n",
        "Rows: 10\n",
        "\n",
        "Data:\n",
        "+-----+--------+--------+\n",
        "| UID | ItemID | Rating |\n",
        "+-----+--------+--------+\n",
        "|  48 |  6327  |   0    |\n",
        "| 522 |  3634  |   5    |\n",
        "| 469 |  289   |   5    |\n",
        "| 171 |  5503  |   5    |\n",
        "|  76 |  9465  |   5    |\n",
        "| 164 |  2765  |   5    |\n",
        "| 408 |  6071  |   5    |\n",
        "| 150 |  2120  |   5    |\n",
        "| 849 |  8077  |   5    |\n",
        "| 602 |  1405  |   5    |\n",
        "+-----+--------+--------+\n",
        "[10 rows x 3 columns]"
       ]
      }
     ],
     "prompt_number": 13
    },
    {
     "cell_type": "code",
     "collapsed": false,
     "input": [
      "model = graphlab.recommender.create(data, user_id=\"UID\", item_id=\"ItemID\", target=\"Rating\")\n",
      "model.save(\"my_model\"+str(datetime.datetime.utcnow()))\n"
     ],
     "language": "python",
     "metadata": {},
     "outputs": [
      {
       "html": [
        "<pre>PROGRESS: Recsys training: model = ranking_factorization_recommender</pre>"
       ],
       "metadata": {},
       "output_type": "display_data",
       "text": [
        "PROGRESS: Recsys training: model = ranking_factorization_recommender"
       ]
      },
      {
       "html": [
        "<pre>PROGRESS: Preparing data set.</pre>"
       ],
       "metadata": {},
       "output_type": "display_data",
       "text": [
        "PROGRESS: Preparing data set."
       ]
      },
      {
       "html": [
        "<pre>PROGRESS:     Data has 501 observations with 399 users and 494 items.</pre>"
       ],
       "metadata": {},
       "output_type": "display_data",
       "text": [
        "PROGRESS:     Data has 501 observations with 399 users and 494 items."
       ]
      },
      {
       "html": [
        "<pre>PROGRESS:     Data prepared in: 0.011879s</pre>"
       ],
       "metadata": {},
       "output_type": "display_data",
       "text": [
        "PROGRESS:     Data prepared in: 0.011879s"
       ]
      },
      {
       "html": [
        "<pre>PROGRESS: Training ranking_factorization_recommender for recommendations.</pre>"
       ],
       "metadata": {},
       "output_type": "display_data",
       "text": [
        "PROGRESS: Training ranking_factorization_recommender for recommendations."
       ]
      },
      {
       "html": [
        "<pre>PROGRESS: +--------------------------------+--------------------------------------------------+----------+</pre>"
       ],
       "metadata": {},
       "output_type": "display_data",
       "text": [
        "PROGRESS: +--------------------------------+--------------------------------------------------+----------+"
       ]
      },
      {
       "html": [
        "<pre>PROGRESS: | Parameter                      | Description                                      | Value    |</pre>"
       ],
       "metadata": {},
       "output_type": "display_data",
       "text": [
        "PROGRESS: | Parameter                      | Description                                      | Value    |"
       ]
      },
      {
       "html": [
        "<pre>PROGRESS: +--------------------------------+--------------------------------------------------+----------+</pre>"
       ],
       "metadata": {},
       "output_type": "display_data",
       "text": [
        "PROGRESS: +--------------------------------+--------------------------------------------------+----------+"
       ]
      },
      {
       "html": [
        "<pre>PROGRESS: | num_factors                    | Factor Dimension                                 | 32       |</pre>"
       ],
       "metadata": {},
       "output_type": "display_data",
       "text": [
        "PROGRESS: | num_factors                    | Factor Dimension                                 | 32       |"
       ]
      },
      {
       "html": [
        "<pre>PROGRESS: | regularization                 | L2 Regularization on Factors                     | 1e-09    |</pre>"
       ],
       "metadata": {},
       "output_type": "display_data",
       "text": [
        "PROGRESS: | regularization                 | L2 Regularization on Factors                     | 1e-09    |"
       ]
      },
      {
       "html": [
        "<pre>PROGRESS: | solver                         | Solver used for training                         | sgd      |</pre>"
       ],
       "metadata": {},
       "output_type": "display_data",
       "text": [
        "PROGRESS: | solver                         | Solver used for training                         | sgd      |"
       ]
      },
      {
       "html": [
        "<pre>PROGRESS: | linear_regularization          | L2 Regularization on Linear Coefficients         | 1e-09    |</pre>"
       ],
       "metadata": {},
       "output_type": "display_data",
       "text": [
        "PROGRESS: | linear_regularization          | L2 Regularization on Linear Coefficients         | 1e-09    |"
       ]
      },
      {
       "html": [
        "<pre>PROGRESS: | ranking_regularization         | Rank-based Regularization Weight                 | 0.25     |</pre>"
       ],
       "metadata": {},
       "output_type": "display_data",
       "text": [
        "PROGRESS: | ranking_regularization         | Rank-based Regularization Weight                 | 0.25     |"
       ]
      },
      {
       "html": [
        "<pre>PROGRESS: | max_iterations                 | Maximum Number of Iterations                     | 25       |</pre>"
       ],
       "metadata": {},
       "output_type": "display_data",
       "text": [
        "PROGRESS: | max_iterations                 | Maximum Number of Iterations                     | 25       |"
       ]
      },
      {
       "html": [
        "<pre>PROGRESS: +--------------------------------+--------------------------------------------------+----------+</pre>"
       ],
       "metadata": {},
       "output_type": "display_data",
       "text": [
        "PROGRESS: +--------------------------------+--------------------------------------------------+----------+"
       ]
      },
      {
       "html": [
        "<pre>PROGRESS:   Optimizing model using SGD; tuning step size.</pre>"
       ],
       "metadata": {},
       "output_type": "display_data",
       "text": [
        "PROGRESS:   Optimizing model using SGD; tuning step size."
       ]
      },
      {
       "html": [
        "<pre>PROGRESS:   Using 501 / 501 points for tuning the step size.</pre>"
       ],
       "metadata": {},
       "output_type": "display_data",
       "text": [
        "PROGRESS:   Using 501 / 501 points for tuning the step size."
       ]
      },
      {
       "html": [
        "<pre>PROGRESS: +---------+-------------------+------------------------------------------+</pre>"
       ],
       "metadata": {},
       "output_type": "display_data",
       "text": [
        "PROGRESS: +---------+-------------------+------------------------------------------+"
       ]
      },
      {
       "html": [
        "<pre>PROGRESS: | Attempt | Initial Step Size | Estimated Objective Value                |</pre>"
       ],
       "metadata": {},
       "output_type": "display_data",
       "text": [
        "PROGRESS: | Attempt | Initial Step Size | Estimated Objective Value                |"
       ]
      },
      {
       "html": [
        "<pre>PROGRESS: +---------+-------------------+------------------------------------------+</pre>"
       ],
       "metadata": {},
       "output_type": "display_data",
       "text": [
        "PROGRESS: +---------+-------------------+------------------------------------------+"
       ]
      },
      {
       "html": [
        "<pre>PROGRESS: | 0       | 25                | Not Viable                               |</pre>"
       ],
       "metadata": {},
       "output_type": "display_data",
       "text": [
        "PROGRESS: | 0       | 25                | Not Viable                               |"
       ]
      },
      {
       "html": [
        "<pre>PROGRESS: | 1       | 6.25              | Not Viable                               |</pre>"
       ],
       "metadata": {},
       "output_type": "display_data",
       "text": [
        "PROGRESS: | 1       | 6.25              | Not Viable                               |"
       ]
      },
      {
       "html": [
        "<pre>PROGRESS: | 2       | 1.5625            | Not Viable                               |</pre>"
       ],
       "metadata": {},
       "output_type": "display_data",
       "text": [
        "PROGRESS: | 2       | 1.5625            | Not Viable                               |"
       ]
      },
      {
       "html": [
        "<pre>PROGRESS: | 3       | 0.390625          | 4.18534                                  |</pre>"
       ],
       "metadata": {},
       "output_type": "display_data",
       "text": [
        "PROGRESS: | 3       | 0.390625          | 4.18534                                  |"
       ]
      },
      {
       "html": [
        "<pre>PROGRESS: | 4       | 0.195312          | 4.0917                                   |</pre>"
       ],
       "metadata": {},
       "output_type": "display_data",
       "text": [
        "PROGRESS: | 4       | 0.195312          | 4.0917                                   |"
       ]
      },
      {
       "html": [
        "<pre>PROGRESS: | 5       | 0.0976562         | 4.28156                                  |</pre>"
       ],
       "metadata": {},
       "output_type": "display_data",
       "text": [
        "PROGRESS: | 5       | 0.0976562         | 4.28156                                  |"
       ]
      },
      {
       "html": [
        "<pre>PROGRESS: | 6       | 0.0488281         | 4.96124                                  |</pre>"
       ],
       "metadata": {},
       "output_type": "display_data",
       "text": [
        "PROGRESS: | 6       | 0.0488281         | 4.96124                                  |"
       ]
      },
      {
       "html": [
        "<pre>PROGRESS: | 7       | 0.0244141         | 5.80701                                  |</pre>"
       ],
       "metadata": {},
       "output_type": "display_data",
       "text": [
        "PROGRESS: | 7       | 0.0244141         | 5.80701                                  |"
       ]
      },
      {
       "html": [
        "<pre>PROGRESS: +---------+-------------------+------------------------------------------+</pre>"
       ],
       "metadata": {},
       "output_type": "display_data",
       "text": [
        "PROGRESS: +---------+-------------------+------------------------------------------+"
       ]
      },
      {
       "html": [
        "<pre>PROGRESS: | Final   | 0.195312          | 4.0917                                   |</pre>"
       ],
       "metadata": {},
       "output_type": "display_data",
       "text": [
        "PROGRESS: | Final   | 0.195312          | 4.0917                                   |"
       ]
      },
      {
       "html": [
        "<pre>PROGRESS: +---------+-------------------+------------------------------------------+</pre>"
       ],
       "metadata": {},
       "output_type": "display_data",
       "text": [
        "PROGRESS: +---------+-------------------+------------------------------------------+"
       ]
      },
      {
       "html": [
        "<pre>PROGRESS: Starting Optimization.</pre>"
       ],
       "metadata": {},
       "output_type": "display_data",
       "text": [
        "PROGRESS: Starting Optimization."
       ]
      },
      {
       "html": [
        "<pre>PROGRESS: +---------+--------------+-------------------+-----------------------+-------------+</pre>"
       ],
       "metadata": {},
       "output_type": "display_data",
       "text": [
        "PROGRESS: +---------+--------------+-------------------+-----------------------+-------------+"
       ]
      },
      {
       "html": [
        "<pre>PROGRESS: | Iter.   | Elapsed Time | Approx. Objective | Approx. Training RMSE | Step Size   |</pre>"
       ],
       "metadata": {},
       "output_type": "display_data",
       "text": [
        "PROGRESS: | Iter.   | Elapsed Time | Approx. Objective | Approx. Training RMSE | Step Size   |"
       ]
      },
      {
       "html": [
        "<pre>PROGRESS: +---------+--------------+-------------------+-----------------------+-------------+</pre>"
       ],
       "metadata": {},
       "output_type": "display_data",
       "text": [
        "PROGRESS: +---------+--------------+-------------------+-----------------------+-------------+"
       ]
      },
      {
       "html": [
        "<pre>PROGRESS: | Initial | 491us        | 7.40166           | 1.94206               |             |</pre>"
       ],
       "metadata": {},
       "output_type": "display_data",
       "text": [
        "PROGRESS: | Initial | 491us        | 7.40166           | 1.94206               |             |"
       ]
      },
      {
       "html": [
        "<pre>PROGRESS: +---------+--------------+-------------------+-----------------------+-------------+</pre>"
       ],
       "metadata": {},
       "output_type": "display_data",
       "text": [
        "PROGRESS: +---------+--------------+-------------------+-----------------------+-------------+"
       ]
      },
      {
       "html": [
        "<pre>PROGRESS: | 1       | 8.156ms      | 8.31114           | 2.02124               | 0.195312    |</pre>"
       ],
       "metadata": {},
       "output_type": "display_data",
       "text": [
        "PROGRESS: | 1       | 8.156ms      | 8.31114           | 2.02124               | 0.195312    |"
       ]
      },
      {
       "html": [
        "<pre>PROGRESS: | 2       | 16.123ms     | 5.55549           | 1.32029               | 0.116134    |</pre>"
       ],
       "metadata": {},
       "output_type": "display_data",
       "text": [
        "PROGRESS: | 2       | 16.123ms     | 5.55549           | 1.32029               | 0.116134    |"
       ]
      },
      {
       "html": [
        "<pre>PROGRESS: | 3       | 30.187ms     | 4.8553            | 1.12575               | 0.0856819   |</pre>"
       ],
       "metadata": {},
       "output_type": "display_data",
       "text": [
        "PROGRESS: | 3       | 30.187ms     | 4.8553            | 1.12575               | 0.0856819   |"
       ]
      },
      {
       "html": [
        "<pre>PROGRESS: | 4       | 37.172ms     | 4.55584           | 1.06538               | 0.0580668   |</pre>"
       ],
       "metadata": {},
       "output_type": "display_data",
       "text": [
        "PROGRESS: | 4       | 37.172ms     | 4.55584           | 1.06538               | 0.0580668   |"
       ]
      },
      {
       "html": [
        "<pre>PROGRESS: | 5       | 46.428ms     | 4.41862           | 1.03887               | 0.0491185   |</pre>"
       ],
       "metadata": {},
       "output_type": "display_data",
       "text": [
        "PROGRESS: | 5       | 46.428ms     | 4.41862           | 1.03887               | 0.0491185   |"
       ]
      },
      {
       "html": [
        "<pre>PROGRESS: | 6       | 60.616ms     | 4.33016           | 1.03433               | 0.042841    |</pre>"
       ],
       "metadata": {},
       "output_type": "display_data",
       "text": [
        "PROGRESS: | 6       | 60.616ms     | 4.33016           | 1.03433               | 0.042841    |"
       ]
      },
      {
       "html": [
        "<pre>PROGRESS: | 11      | 102.497ms    | 4.17123           | 1.0037                | 0.0271912   |</pre>"
       ],
       "metadata": {},
       "output_type": "display_data",
       "text": [
        "PROGRESS: | 11      | 102.497ms    | 4.17123           | 1.0037                | 0.0271912   |"
       ]
      },
      {
       "html": [
        "<pre>PROGRESS: +---------+--------------+-------------------+-----------------------+-------------+</pre>"
       ],
       "metadata": {},
       "output_type": "display_data",
       "text": [
        "PROGRESS: +---------+--------------+-------------------+-----------------------+-------------+"
       ]
      },
      {
       "html": [
        "<pre>PROGRESS: Optimization Complete: Maximum number of passes through the data reached.</pre>"
       ],
       "metadata": {},
       "output_type": "display_data",
       "text": [
        "PROGRESS: Optimization Complete: Maximum number of passes through the data reached."
       ]
      },
      {
       "html": [
        "<pre>PROGRESS: Computing final objective value and training RMSE.</pre>"
       ],
       "metadata": {},
       "output_type": "display_data",
       "text": [
        "PROGRESS: Computing final objective value and training RMSE."
       ]
      },
      {
       "html": [
        "<pre>PROGRESS:        Final objective value: 3.95769</pre>"
       ],
       "metadata": {},
       "output_type": "display_data",
       "text": [
        "PROGRESS:        Final objective value: 3.95769"
       ]
      },
      {
       "html": [
        "<pre>PROGRESS:        Final training RMSE: 0.957058</pre>"
       ],
       "metadata": {},
       "output_type": "display_data",
       "text": [
        "PROGRESS:        Final training RMSE: 0.957058"
       ]
      }
     ],
     "prompt_number": 14
    },
    {
     "cell_type": "code",
     "collapsed": false,
     "input": [
      "results = model.recommend(users=[1,2], k=50)\n",
      "\n"
     ],
     "language": "python",
     "metadata": {},
     "outputs": [],
     "prompt_number": 20
    },
    {
     "cell_type": "code",
     "collapsed": false,
     "input": [
      "#load saved model\n",
      "#loaded_model = graphlab.load_model('my_model')\n"
     ],
     "language": "python",
     "metadata": {},
     "outputs": []
    },
    {
     "cell_type": "markdown",
     "metadata": {},
     "source": [
      "below is the goal for output json for particular user."
     ]
    },
    {
     "cell_type": "code",
     "collapsed": false,
     "input": [
      "#recommend to the end user the highest five(default) item in rank calculated in collaborative filtering \n",
      "import mongodb\n",
      "import pprint\n",
      "import json\n",
      "def recommend_json(user,n=None):\n",
      "    \"\"\"\n",
      "    input:\n",
      "    user: list of user(s) to return result. Example: [\"john\"]\n",
      "    n:number of result for each user, default 5\n",
      "    output:\n",
      "    itemID: this can be used to retrieve info in item db to get avatar and url for this item for recommend in d3\n",
      "    item prediciton score for this user \n",
      "    # now i choose to save json to the root directory\n",
      "    {\n",
      "        \"UID\":[\n",
      "        {\"ItemID\":\"1\",\"Thumbnail\":\"some image url\",\"Url\":\"item url\"},\n",
      "        {\"ItemID\":\"21\",\"Thumbnail\":\"some image url\",\"Url\":\"item url\"},\n",
      "        {\"ItemID\":\"43\",\"Thumbnail\":\"some image url\",\"Url\":\"item url\"},\n",
      "        {\"ItemID\":\"45\",\"Thumbnail\":\"some image url\",\"Url\":\"item url\"},\n",
      "        {\"ItemID\":\"59\",\"Thumbnail\":\"some image url\",\"Url\":\"item url\"}\n",
      "        ]\n",
      "        \"UID\":[\n",
      "        {\"ItemID\":\"1\",\"Thumbnail\":\"some image url\",\"Url\":\"item url\"},\n",
      "        {\"ItemID\":\"21\",\"Thumbnail\":\"some image url\",\"Url\":\"item url\"},\n",
      "        {\"ItemID\":\"43\",\"Thumbnail\":\"some image url\",\"Url\":\"item url\"},\n",
      "        {\"ItemID\":\"45\",\"Thumbnail\":\"some image url\",\"Url\":\"item url\"},\n",
      "        {\"ItemID\":\"59\",\"Thumbnail\":\"some image url\",\"Url\":\"item url\"}\n",
      "        ]...\n",
      "    }\n",
      "    \"\"\"\n",
      "    if n is None:\n",
      "        n =5\n",
      "    \n",
      "    results = model.recommend(users=user, k=n)\n",
      "    items = results[:]['ItemID']\n",
      "    \n",
      "    item_json = {}\n",
      "    item_json['UID'] = []\n",
      "    for b in items:\n",
      "        for a in mongodb.find_item(int(b)):\n",
      "            item = {\"ItemID\":a[\"ItemID\"],\"Thumbnail\":a[\"Thumbnail\"],\"Url\":a[\"Url\"]}\n",
      "            item_json['UID'].append(item)   \n",
      "        json_data = json.dumps(item_json)  \n",
      "    with open('json_item.json', 'w') as outfile:\n",
      "        json.dump(json.loads(json_data), outfile)\n",
      "    #return json_data\n",
      "\n",
      "recommend_json([2])"
     ],
     "language": "python",
     "metadata": {},
     "outputs": [
      {
       "metadata": {},
       "output_type": "pyout",
       "prompt_number": 73,
       "text": [
        "'{\"UID\": [{\"ItemID\": 1814, \"Url\": \"https://www.udacity.com/course/viewer#!/c-ud032/l-745498943/m-734730655\", \"Thumbnail\": \"http://lh3.ggpht.com/ll9ungBQPIwG1u5WHYyB_q-CO6gAzJC-fT3xotaS5DV3UbNZ7Xdz6b5T3Jpl7aEfmVEY2gjvkkt7KzWVeIo=s0\"}, {\"ItemID\": 1814, \"Url\": \"http://www.amazon.com/1989-Taylor-Swift/dp/B00MRHANNI/ref=pd_sim_m_3?ie=UTF8&refRID=1K8Y170G44FNQP6RA2H5\", \"Thumbnail\": \"http://lh3.ggpht.com/ll9ungBQPIwG1u5WHYyB_q-CO6gAzJC-fT3xotaS5DV3UbNZ7Xdz6b5T3Jpl7aEfmVEY2gjvkkt7KzWVeIo=s0\"}, {\"ItemID\": 6089, \"Url\": \"http://www.amazon.com/Cheek-Deluxe-Lady-Gaga/dp/B00MU79IL8/ref=sr_1_1?ie=UTF8&qid=1428964029&sr=8-1&keywords=lady+gaga\", \"Thumbnail\": \"http://lh3.ggpht.com/ll9ungBQPIwG1u5WHYyB_q-CO6gAzJC-fT3xotaS5DV3UbNZ7Xdz6b5T3Jpl7aEfmVEY2gjvkkt7KzWVeIo=s0\"}, {\"ItemID\": 2447, \"Url\": \"http://www.amazon.com/The-Lonely-Hour-Deluxe-Edition/dp/B00H3GZMIE/ref=pd_sim_m_2?ie=UTF8&refRID=1G47A5BAXVTPENQKE6AJ\", \"Thumbnail\": \"http://lh3.ggpht.com/ll9ungBQPIwG1u5WHYyB_q-CO6gAzJC-fT3xotaS5DV3UbNZ7Xdz6b5T3Jpl7aEfmVEY2gjvkkt7KzWVeIo=s0\"}, {\"ItemID\": 4005, \"Url\": \"http://www.amazon.com/Hybrid-Theory-LINKIN-PARK/dp/B00004Z459/ref=sr_1_1?ie=UTF8&qid=1428964399&sr=8-1&keywords=linkin+park\", \"Thumbnail\": \"http://lh3.ggpht.com/ll9ungBQPIwG1u5WHYyB_q-CO6gAzJC-fT3xotaS5DV3UbNZ7Xdz6b5T3Jpl7aEfmVEY2gjvkkt7KzWVeIo=s0\"}, {\"ItemID\": 4410, \"Url\": \"http://www.amazon.com/Hunting-Party-Linkin-Park/dp/B00JYKU6BK/ref=sr_1_2?ie=UTF8&qid=1428964432&sr=8-2&keywords=linkin+park\", \"Thumbnail\": \"http://lh3.ggpht.com/ll9ungBQPIwG1u5WHYyB_q-CO6gAzJC-fT3xotaS5DV3UbNZ7Xdz6b5T3Jpl7aEfmVEY2gjvkkt7KzWVeIo=s0\"}]}'"
       ]
      }
     ],
     "prompt_number": 73
    },
    {
     "cell_type": "code",
     "collapsed": false,
     "input": [],
     "language": "python",
     "metadata": {},
     "outputs": [],
     "prompt_number": 42
    },
    {
     "cell_type": "code",
     "collapsed": false,
     "input": [
      "import json\n",
      "data = {}\n",
      "a = {\"ItemID\":\"59\",\"Thumbnail\":\"some image url\",\"Url\":\"item url\"}\n",
      "b = {\"ItemID\":\"21\",\"Thumbnail\":\"some image url\",\"Url\":\"item url\"}\n",
      "data['key'] = []\n",
      "data['key'].append(a)\n",
      "data['key'].append(b)\n",
      "\n",
      "json_data = json.dumps(data)\n",
      "print json_data"
     ],
     "language": "python",
     "metadata": {},
     "outputs": [
      {
       "output_type": "stream",
       "stream": "stdout",
       "text": [
        "{\"key\": [{\"ItemID\": \"59\", \"Url\": \"item url\", \"Thumbnail\": \"some image url\"}, {\"ItemID\": \"21\", \"Url\": \"item url\", \"Thumbnail\": \"some image url\"}]}\n"
       ]
      }
     ],
     "prompt_number": 63
    },
    {
     "cell_type": "code",
     "collapsed": false,
     "input": [],
     "language": "python",
     "metadata": {},
     "outputs": []
    }
   ],
   "metadata": {}
  }
 ]
}