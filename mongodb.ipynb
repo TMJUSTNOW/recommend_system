{
 "metadata": {
  "name": "",
  "signature": "sha256:259c7607143c668a186225c5be7a7b7fda541b0bb531f4388c17577c22e4c6c8"
 },
 "nbformat": 3,
 "nbformat_minor": 0,
 "worksheets": [
  {
   "cells": [
    {
     "cell_type": "heading",
     "level": 1,
     "metadata": {},
     "source": [
      "use this to solve start mongodb\n",
      "http://www.marcusoft.net/2014/05/mongodb-and-10309-unable-to-createopen.html"
     ]
    },
    {
     "cell_type": "code",
     "collapsed": false,
     "input": [
      "#DB SETUP\n",
      "from pymongo import MongoClient\n",
      "client = MongoClient('mongodb://localhost:27017')\n",
      "db = client.musicfan\n",
      "\n",
      "\n",
      "\n"
     ],
     "language": "python",
     "metadata": {},
     "outputs": [
      {
       "output_type": "stream",
       "stream": "stdout",
       "text": [
        "Collection(Database(MongoClient('localhost', 27017), u'musicfan'), u'things.data')\n"
       ]
      }
     ],
     "prompt_number": 12
    },
    {
     "cell_type": "markdown",
     "metadata": {},
     "source": [
      "creat instance and insert data"
     ]
    },
    {
     "cell_type": "code",
     "collapsed": false,
     "input": [
      "#UID name email pw \n",
      "User={\n",
      "\"UID\":uid,\n",
      "\"Name\":name,\n",
      "\"Email\":email,\n",
      "\"PW\":pw\n",
      "}\n",
      "\n",
      "\n",
      "db.user.insert(User)\n",
      "\n",
      "\n",
      "\n",
      "#UID ItemID rating \n",
      "# here I set a initial for UID ItemID test time, time can be return from the webpage side\n",
      "UID =  32\n",
      "ItemID =  0\n",
      "time = 1600\n",
      "rating = 0;\n",
      "\n",
      "Rating = {\"UID\":UID,\n",
      "          \"ItemID\":ItemID\n",
      "          \"Rating\":rating}\n",
      "if time < 5:\n",
      "    rating = 0\n",
      "else if 5<=time < 60:\n",
      "    rating = 1\n",
      "else if 60<=time < 120:\n",
      "    rating = 2    \n",
      "else if 120<=time < 180:\n",
      "    rating = 3\n",
      "else if 180<=time < 240:\n",
      "    rating = 4\n",
      "else if 240<=time :\n",
      "    rating = 5    \n",
      "db.rating.insert(Rating)\n",
      "\n",
      "\n",
      "#itemID url avatar\n",
      "Item = {\n",
      "\"ItemID\":itemID,\n",
      "\"Url\":url,\n",
      "\"Avatar\":avatar\n",
      "}\n",
      "db.item.insert(Item)\n"
     ],
     "language": "python",
     "metadata": {},
     "outputs": []
    },
    {
     "cell_type": "markdown",
     "metadata": {},
     "source": [
      "query in db, notice when we do collaborative filtering, we only need to convert the rating instance from json to csv for graphlab to conduct the computing for the CF matrix. In this context, we only care about query item that we can retrieve to send to recommendation system rendering side. "
     ]
    },
    {
     "cell_type": "code",
     "collapsed": false,
     "input": [
      "def find_item(itemID):\n",
      "    item =  db.item.find({\"ItemID\":itemID})\n",
      "    return item\n"
     ],
     "language": "python",
     "metadata": {},
     "outputs": [
      {
       "output_type": "stream",
       "stream": "stdout",
       "text": [
        "True\n"
       ]
      },
      {
       "ename": "IOError",
       "evalue": "Nothing to update.",
       "output_type": "pyerr",
       "traceback": [
        "\u001b[0;31m---------------------------------------------------------------------------\u001b[0m\n\u001b[0;31mIOError\u001b[0m                                   Traceback (most recent call last)",
        "\u001b[0;32m<ipython-input-28-31206aca56af>\u001b[0m in \u001b[0;36m<module>\u001b[0;34m()\u001b[0m\n\u001b[1;32m      4\u001b[0m \u001b[0;32mprint\u001b[0m \u001b[0;34m(\u001b[0m\u001b[0;34m(\u001b[0m\u001b[0mname\u001b[0m \u001b[0;32mand\u001b[0m \u001b[0memail\u001b[0m \u001b[0;32mand\u001b[0m \u001b[0mpw\u001b[0m \u001b[0;34m)\u001b[0m\u001b[0;32mis\u001b[0m \u001b[0mNone\u001b[0m\u001b[0;34m)\u001b[0m\u001b[0;34m\u001b[0m\u001b[0m\n\u001b[1;32m      5\u001b[0m \u001b[0;32mif\u001b[0m \u001b[0;34m(\u001b[0m\u001b[0;34m(\u001b[0m\u001b[0mname\u001b[0m \u001b[0;32mand\u001b[0m \u001b[0memail\u001b[0m \u001b[0;32mand\u001b[0m \u001b[0mpw\u001b[0m \u001b[0;34m)\u001b[0m\u001b[0;32mis\u001b[0m \u001b[0mNone\u001b[0m\u001b[0;34m)\u001b[0m\u001b[0;34m:\u001b[0m\u001b[0;34m\u001b[0m\u001b[0m\n\u001b[0;32m----> 6\u001b[0;31m     \u001b[0;32mraise\u001b[0m \u001b[0mIOError\u001b[0m\u001b[0;34m(\u001b[0m\u001b[0;34m\"Nothing to update.\"\u001b[0m\u001b[0;34m)\u001b[0m\u001b[0;34m\u001b[0m\u001b[0m\n\u001b[0m",
        "\u001b[0;31mIOError\u001b[0m: Nothing to update."
       ]
      }
     ],
     "prompt_number": 28
    },
    {
     "cell_type": "markdown",
     "metadata": {},
     "source": [
      "update db"
     ]
    },
    {
     "cell_type": "code",
     "collapsed": false,
     "input": [
      "def user_update(uid,name=None,email=None,pw=None):\n",
      "    User = db.user.find_one({\"UID\":uid})\n",
      "    if ((name and email and pw )is None):\n",
      "        raise IOError(\"Nothing to update.\")\n",
      "    if (name is not None):\n",
      "        User[\"Name\"] = name\n",
      "    if (email is not None):\n",
      "        User[\"Email\"] = email\n",
      "    if (pw is not None):\n",
      "        User[\"PW\"]=pw\n",
      "def item_update(itemID,url=None,avatar=None):\n",
      "    User = db.item.find_one({\"ItemID\":itemID})\n",
      "    if ((url and avartar)is None):\n",
      "        raise IOError(\"Nothing to update.\")\n",
      "    if (url is not None):\n",
      "        User[\"Url\"] = url\n",
      "    if (avatar is not None):\n",
      "        User[\"Avatar\"] = avatar\n",
      "    \n",
      "\n",
      "def rating_update(uid,itemID,rating):\n",
      "    User = db.rating.find_one({\"UID\":uid, \"ItemID\":itemID})\n",
      "    User[\"Rating\"]=rating       \n",
      "\n"
     ],
     "language": "python",
     "metadata": {},
     "outputs": []
    }
   ],
   "metadata": {}
  }
 ]
}