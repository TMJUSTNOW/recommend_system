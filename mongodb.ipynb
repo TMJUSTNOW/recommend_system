{
 "metadata": {
  "name": "",
  "signature": "sha256:efa93c7d1a91b5d4e37bef9e779983cda04e1f6dc1f79f4517ea6c0b58fc3337"
 },
 "nbformat": 3,
 "nbformat_minor": 0,
 "worksheets": [
  {
   "cells": [
    {
     "cell_type": "heading",
     "level": 1,
     "metadata": {},
     "source": [
      "use this to solve start mongodb\n",
      "http://www.marcusoft.net/2014/05/mongodb-and-10309-unable-to-createopen.html"
     ]
    },
    {
     "cell_type": "code",
     "collapsed": false,
     "input": [
      "#DB SETUP\n",
      "\n",
      "from pymongo import MongoClient\n",
      "import pprint\n",
      "client = MongoClient('mongodb://localhost:27017')\n",
      "db = client.musicfan"
     ],
     "language": "python",
     "metadata": {},
     "outputs": [],
     "prompt_number": 37
    },
    {
     "cell_type": "markdown",
     "metadata": {},
     "source": [
      "creat instance and insert data   ||json format description http://dataprotocols.org/json-table-schema/"
     ]
    },
    {
     "cell_type": "markdown",
     "metadata": {},
     "source": [
      "# CRUD function for recommendation system\n",
      "In MongoDB, the primary key is automatically created and assigned to the _id field. If you do not specify the _id field, it will be auto-generated for you. The _id field is always indexed and always unique.\n",
      "You can't change this, the behaviour is baked in to MongoDB."
     ]
    },
    {
     "cell_type": "code",
     "collapsed": false,
     "input": [
      "\n",
      "#CRUD functionality for recommendation system\n",
      "\n",
      "def user_create(uid,name,email,pw):\n",
      "    #schema for user instance\n",
      "    #UID name email pw \n",
      "    #email should be unique\n",
      "    '''\n",
      "    input:\n",
      "    uid = 0\n",
      "    name = 'john'\n",
      "    email = 'john@gmail.com'\n",
      "    pw = 'john1111'\n",
      "    '''\n",
      "    User={\n",
      "    \"UID\":uid,\n",
      "    \"Name\":name,\n",
      "    \"Email\":email,\n",
      "    \"PW\":pw\n",
      "    }\n",
      "    db.user.insert(User)\n",
      "\n",
      "#db.user.create_index((\"Email\"),unique=True)\n",
      "\n",
      "\n",
      "def rating_create(UID,ItemID,time):\n",
      "    #schema for rating instance\n",
      "    #UID ItemID rating   (UID and ItemID is primary key)\n",
      "    # here I set a initial for UID ItemID test time, time can be return from the webpage side\n",
      "    \"\"\"\n",
      "    input:\n",
      "    UID =  32\n",
      "    ItemID =  0\n",
      "    time = 1600\n",
      "    \"\"\"\n",
      "    \n",
      "    if time < 5:\n",
      "        rating = 0\n",
      "    elif 5<=time and time < 60:\n",
      "        rating = 1\n",
      "    elif 60<=time and time < 120:\n",
      "        rating = 2    \n",
      "    elif 120<=time and time < 180:\n",
      "        rating = 3\n",
      "    elif 180<=time and time  < 240:\n",
      "        rating = 4\n",
      "    elif 240<=time :\n",
      "        rating = 5    \n",
      "    Rating = {\"UID\":UID,\n",
      "              \"ItemID\":ItemID,\n",
      "              \"Rating\":rating}\n",
      "    db.rating.insert(Rating)\n",
      "\n",
      "#db.rating.create_index([(\"UID\", pymongo.ASCENDING),(\"ItemID\", pymongo.ASCENDING)],unique=True)\n",
      "\n",
      "def item_create(itemID,url,tn):\n",
      "\n",
      "    #itemID(primary key) url avatar\n",
      "    \"\"\"\n",
      "    input:\n",
      "    itemID=10\n",
      "    url =\"https://www.udacity.com/course/viewer#!/c-ud032/l-745498943/m-734730655\" \n",
      "    tn = \"http://lh3.ggpht.com/ll9ungBQPIwG1u5WHYyB_q-CO6gAzJC-fT3xotaS5DV3UbNZ7Xdz6b5T3Jpl7aEfmVEY2gjvkkt7KzWVeIo=s0\"\n",
      "    \"\"\"\n",
      "    Item = {\n",
      "    \"ItemID\":itemID,\n",
      "    \"Url\":url,\n",
      "    \"Thumbnail\":tn\n",
      "    }\n",
      "    db.item.insert(Item)\n",
      "\n",
      "#db.item.create_index((\"ItemID\"),unique=True)\n",
      "\n",
      "\n",
      "\n"
     ],
     "language": "python",
     "metadata": {},
     "outputs": [],
     "prompt_number": 38
    },
    {
     "cell_type": "markdown",
     "metadata": {},
     "source": [
      "query in db, notice when we do collaborative filtering, we only need to convert the rating instance from json to csv for graphlab to conduct the computing for the CF matrix. In this context, we only care about query item that we can retrieve to send to recommendation system rendering side. "
     ]
    },
    {
     "cell_type": "code",
     "collapsed": false,
     "input": [
      "#Query in db, notice when we do collaborative filtering, we only need to convert \n",
      "#the rating instance from json to csv for graphlab to conduct the computing for the CF matrix. \n",
      "#In this context, we only care about query item that we can retrieve to send to recommendation system rendering side.\n",
      "def find_item(itemID):\n",
      "    item =  db.item.find({\"ItemID\":itemID})\n",
      "    \n",
      "    return item\n"
     ],
     "language": "python",
     "metadata": {},
     "outputs": [],
     "prompt_number": 39
    },
    {
     "cell_type": "markdown",
     "metadata": {},
     "source": [
      "update db"
     ]
    },
    {
     "cell_type": "code",
     "collapsed": false,
     "input": [
      "def user_update(uid,name=None,email=None,pw=None):\n",
      "    User = db.user.find_one({\"UID\":uid})\n",
      "    if ((name and email and pw )is None):\n",
      "        raise IOError(\"Nothing to update.\")\n",
      "    if (name is not None):\n",
      "        User[\"Name\"] = name\n",
      "    if (email is not None):\n",
      "        User[\"Email\"] = email\n",
      "    if (pw is not None):\n",
      "        User[\"PW\"]=pw\n",
      "def item_update(itemID,url=None,avatar=None):\n",
      "    User = db.item.find_one({\"ItemID\":itemID})\n",
      "    if ((url and avartar)is None):\n",
      "        raise IOError(\"Nothing to update.\")\n",
      "    if (url is not None):\n",
      "        User[\"Url\"] = url\n",
      "    if (avatar is not None):\n",
      "        User[\"Avatar\"] = avatar\n",
      "    \n",
      "\n",
      "def rating_update(uid,itemID,rating):\n",
      "    User = db.rating.find_one({\"UID\":uid, \"ItemID\":itemID})\n",
      "    User[\"Rating\"]=rating       \n",
      "\n"
     ],
     "language": "python",
     "metadata": {},
     "outputs": [],
     "prompt_number": 40
    },
    {
     "cell_type": "code",
     "collapsed": false,
     "input": [
      "#For the remove option, since we value all the info we saved here, this option will be implemented when needed.\n",
      "#Be careful when remove all, this will cause your entire data lost.\n",
      "def item_remove_all():\n",
      "    \"\"\"\n",
      "    remove all item in db\n",
      "    \"\"\"\n",
      "    db.item.drop()\n",
      "def user_remove_all():\n",
      "    \"\"\"\n",
      "    remove all user in db\n",
      "    \"\"\"\n",
      "    db.user.drop() \n",
      "def rating_remove_all():\n",
      "    \"\"\"\n",
      "    remove all rating in db\n",
      "    \"\"\"\n",
      "    db.rating.drop()     \n"
     ],
     "language": "python",
     "metadata": {},
     "outputs": [],
     "prompt_number": 41
    },
    {
     "cell_type": "code",
     "collapsed": false,
     "input": [
      "#test another problem is the id problem, unique find in mongodb\n",
      "'''\n",
      "itemID=10\n",
      "url =\"https://www.udacity.com/course/viewer#!/c-ud032/l-745498943/m-734730655\" \n",
      "tn = \"http://lh3.ggpht.com/ll9ungBQPIwG1u5WHYyB_q-CO6gAzJC-fT3xotaS5DV3UbNZ7Xdz6b5T3Jpl7aEfmVEY2gjvkkt7KzWVeIo=s0\"\n",
      "item_create(itemID,url,tn)\n",
      "\n",
      "type(db.rating)\n",
      "for a in db.rating.find():\n",
      "    pprint.pprint(a)\n",
      "\n",
      "rating_remove_all()\n",
      "'''"
     ],
     "language": "python",
     "metadata": {},
     "outputs": [
      {
       "metadata": {},
       "output_type": "pyout",
       "prompt_number": 42,
       "text": [
        "'\\nitemID=10\\nurl =\"https://www.udacity.com/course/viewer#!/c-ud032/l-745498943/m-734730655\" \\ntn = \"http://lh3.ggpht.com/ll9ungBQPIwG1u5WHYyB_q-CO6gAzJC-fT3xotaS5DV3UbNZ7Xdz6b5T3Jpl7aEfmVEY2gjvkkt7KzWVeIo=s0\"\\nitem_create(itemID,url,tn)\\n\\ntype(db.rating)\\nfor a in db.rating.find():\\n    pprint.pprint(a)\\n\\nrating_remove_all()\\n'"
       ]
      }
     ],
     "prompt_number": 42
    },
    {
     "cell_type": "markdown",
     "metadata": {},
     "source": [
      "#the next function need to be implement is the output db.rating to the graphlab in csv format "
     ]
    },
    {
     "cell_type": "code",
     "collapsed": false,
     "input": [
      "import csv\n",
      "def rating_output_csv(db):\n",
      "    \"\"\"input:\n",
      "        db.collection.collection\n",
      "       output:\n",
      "        the csv path in the system with csv containing UID, ItemID, Rating\n",
      "    \"\"\"\n",
      "    query ={\"_id\":{\"$exists\":1}}\n",
      "    projection ={\"_id\":0,\"UID\":1,\"ItemID\":1,\"Rating\":1}\n",
      "    ratings = db.rating.find(query,projection)\n",
      "    \n",
      "    with open('rating.csv', 'wb') as csvfile:\n",
      "        ratingwriter = csv.writer(csvfile)\n",
      "        ratingwriter.writerow(['UID','ItemID','Rating'])\n",
      "        for a in ratings:\n",
      "            ratingwriter.writerow([a[\"UID\"],a[\"ItemID\"],a[\"Rating\"]])\n",
      "        \n",
      "    #print type(csvfile)\n",
      "rating_output_csv(db)"
     ],
     "language": "python",
     "metadata": {},
     "outputs": [],
     "prompt_number": 43
    },
    {
     "cell_type": "markdown",
     "metadata": {},
     "source": [
      "#Generate a random rating table for test "
     ]
    },
    {
     "cell_type": "code",
     "collapsed": false,
     "input": [
      "import random\n",
      "def gen_rating(k):\n",
      "    \"\"\"input:\n",
      "    k  is the number of row in the rating collection\n",
      "    output:\n",
      "    random table for UID, ItemID, Rating\n",
      "    rating is within 0-5.\n",
      "    \"\"\"\n",
      "    userids = range(1000)\n",
      "    itemids = range(10000)\n",
      "    rating = range(6)\n",
      "    for i in range(k):\n",
      "        uid = random.choice(userids)\n",
      "        itemid = random.choice(itemids)\n",
      "        user_rating = random.choice(rating)\n",
      "        rating_create(uid,itemid,user_rating)\n",
      "    \n",
      "gen_rating(1000)\n",
      "rating_output_csv(db)    \n",
      "    "
     ],
     "language": "python",
     "metadata": {},
     "outputs": [],
     "prompt_number": 44
    },
    {
     "cell_type": "code",
     "collapsed": false,
     "input": [
      "9872\t0.389488027453\t1\n",
      "1\t9890\t0.376208708644\t2\n",
      "1\t7584\t0.364905477524\t3\n",
      "1\t7513\t0.362915934086\t4\n",
      "1\t2437\t0.342185364127\t5\n",
      "1\t6810\t0.340496392012\t6\n",
      "1\t"
     ],
     "language": "python",
     "metadata": {},
     "outputs": []
    },
    {
     "cell_type": "markdown",
     "metadata": {},
     "source": [
      "# I decide to use flask to perform AJAX (since the backend is now in python)"
     ]
    },
    {
     "cell_type": "code",
     "collapsed": false,
     "input": [
      "def test_insert_item():\n",
      "    \"\"\"\n",
      "    this is a test for user 2, ingest item data to the db.item\n",
      "    \"\"\"\n",
      "    itemID = 9872\n",
      "    url =\"http://www.amazon.com/1989-Taylor-Swift/dp/B00MRHANNI/ref=pd_sim_m_3?ie=UTF8&refRID=1K8Y170G44FNQP6RA2H5\" \n",
      "    tn = \"http://ecx.images-amazon.com/images/I/41q3uhpDctL._AA160_.jpg\"\n",
      "\n",
      "    item_create(itemID,url,tn)\n",
      "    ['1814', '6089', '2447', '4005', '4410']\n",
      "\n",
      "    itemID = 9890\n",
      "    tn =\"http://ecx.images-amazon.com/images/I/61J61fwud1L._AA160_.jpg\"\n",
      "    url=\"http://www.amazon.com/Cheek-Deluxe-Lady-Gaga/dp/B00MU79IL8/ref=sr_1_1?ie=UTF8&qid=1428964029&sr=8-1&keywords=lady+gaga\"\n",
      "    item_create(itemID,url,tn)\n",
      "\n",
      "    itemID = 7584\n",
      "    tn =\"http://ecx.images-amazon.com/images/I/616y3gmSmcL._AA160_.jpg\"\n",
      "    url=\"http://www.amazon.com/The-Lonely-Hour-Deluxe-Edition/dp/B00H3GZMIE/ref=pd_sim_m_2?ie=UTF8&refRID=1G47A5BAXVTPENQKE6AJ\"\n",
      "    item_create(itemID,url,tn)\n",
      "\n",
      "    itemID = 7513\n",
      "    tn =\"http://ecx.images-amazon.com/images/I/613BBVSBnEL._AA160_.jpg\"\n",
      "    url=\"http://www.amazon.com/Hybrid-Theory-LINKIN-PARK/dp/B00004Z459/ref=sr_1_1?ie=UTF8&qid=1428964399&sr=8-1&keywords=linkin+park\"\n",
      "    item_create(itemID,url,tn)\n",
      "    \n",
      "    itemID = 2437\n",
      "    tn =\"http://ecx.images-amazon.com/images/I/41yfeQmnysL._SX350_PI_PJStripe-Prime-Only-500px,TopLeft,0,0_AA160_.jpg\"\n",
      "    url=\"http://www.amazon.com/Hunting-Party-Linkin-Park/dp/B00JYKU6BK/ref=sr_1_2?ie=UTF8&qid=1428964432&sr=8-2&keywords=linkin+park\"\n",
      "    item_create(itemID,url,tn)\n"
     ],
     "language": "python",
     "metadata": {},
     "outputs": [],
     "prompt_number": 56
    },
    {
     "cell_type": "code",
     "collapsed": false,
     "input": [
      "test_insert_item()"
     ],
     "language": "python",
     "metadata": {},
     "outputs": [],
     "prompt_number": 57
    },
    {
     "cell_type": "code",
     "collapsed": false,
     "input": [
      "for a in db.item.find({\"_id\":{\"$exists\":1}}):\n",
      "    print a"
     ],
     "language": "python",
     "metadata": {},
     "outputs": [
      {
       "output_type": "stream",
       "stream": "stdout",
       "text": [
        "{u'ItemID': 9885, u'Url': u'http://www.amazon.com/1989-Taylor-Swift/dp/B00MRHANNI/ref=pd_sim_m_3?ie=UTF8&refRID=1K8Y170G44FNQP6RA2H5', u'_id': ObjectId('552f0a9637902f043f83be17'), u'Thumbnail': u'http://ecx.images-amazon.com/images/I/41q3uhpDctL._AA160_.jpg'}\n",
        "{u'ItemID': 8456, u'Url': u'http://www.amazon.com/Cheek-Deluxe-Lady-Gaga/dp/B00MU79IL8/ref=sr_1_1?ie=UTF8&qid=1428964029&sr=8-1&keywords=lady+gaga', u'_id': ObjectId('552f0a9637902f043f83be18'), u'Thumbnail': u'http://ecx.images-amazon.com/images/I/61J61fwud1L._AA160_.jpg'}\n",
        "{u'ItemID': 1301, u'Url': u'http://www.amazon.com/The-Lonely-Hour-Deluxe-Edition/dp/B00H3GZMIE/ref=pd_sim_m_2?ie=UTF8&refRID=1G47A5BAXVTPENQKE6AJ', u'_id': ObjectId('552f0a9637902f043f83be19'), u'Thumbnail': u'http://ecx.images-amazon.com/images/I/616y3gmSmcL._AA160_.jpg'}\n",
        "{u'ItemID': 26, u'Url': u'http://www.amazon.com/Hybrid-Theory-LINKIN-PARK/dp/B00004Z459/ref=sr_1_1?ie=UTF8&qid=1428964399&sr=8-1&keywords=linkin+park', u'_id': ObjectId('552f0a9637902f043f83be1a'), u'Thumbnail': u'http://ecx.images-amazon.com/images/I/613BBVSBnEL._AA160_.jpg'}\n",
        "{u'ItemID': 4580, u'Url': u'http://www.amazon.com/Hunting-Party-Linkin-Park/dp/B00JYKU6BK/ref=sr_1_2?ie=UTF8&qid=1428964432&sr=8-2&keywords=linkin+park', u'_id': ObjectId('552f0a9637902f043f83be1b'), u'Thumbnail': u'http://ecx.images-amazon.com/images/I/41yfeQmnysL._SX350_PI_PJStripe-Prime-Only-500px,TopLeft,0,0_AA160_.jpg'}\n",
        "{u'ItemID': 9885, u'Url': u'http://www.amazon.com/1989-Taylor-Swift/dp/B00MRHANNI/ref=pd_sim_m_3?ie=UTF8&refRID=1K8Y170G44FNQP6RA2H5', u'_id': ObjectId('552f2d0437902f043f83be1c'), u'Thumbnail': u'http://ecx.images-amazon.com/images/I/41q3uhpDctL._AA160_.jpg'}\n",
        "{u'ItemID': 8456, u'Url': u'http://www.amazon.com/Cheek-Deluxe-Lady-Gaga/dp/B00MU79IL8/ref=sr_1_1?ie=UTF8&qid=1428964029&sr=8-1&keywords=lady+gaga', u'_id': ObjectId('552f2d0437902f043f83be1d'), u'Thumbnail': u'http://ecx.images-amazon.com/images/I/61J61fwud1L._AA160_.jpg'}\n",
        "{u'ItemID': 1301, u'Url': u'http://www.amazon.com/The-Lonely-Hour-Deluxe-Edition/dp/B00H3GZMIE/ref=pd_sim_m_2?ie=UTF8&refRID=1G47A5BAXVTPENQKE6AJ', u'_id': ObjectId('552f2d0437902f043f83be1e'), u'Thumbnail': u'http://ecx.images-amazon.com/images/I/616y3gmSmcL._AA160_.jpg'}\n",
        "{u'ItemID': 26, u'Url': u'http://www.amazon.com/Hybrid-Theory-LINKIN-PARK/dp/B00004Z459/ref=sr_1_1?ie=UTF8&qid=1428964399&sr=8-1&keywords=linkin+park', u'_id': ObjectId('552f2d0437902f043f83be1f'), u'Thumbnail': u'http://ecx.images-amazon.com/images/I/613BBVSBnEL._AA160_.jpg'}\n",
        "{u'ItemID': 4580, u'Url': u'http://www.amazon.com/Hunting-Party-Linkin-Park/dp/B00JYKU6BK/ref=sr_1_2?ie=UTF8&qid=1428964432&sr=8-2&keywords=linkin+park', u'_id': ObjectId('552f2d0437902f043f83be20'), u'Thumbnail': u'http://ecx.images-amazon.com/images/I/41yfeQmnysL._SX350_PI_PJStripe-Prime-Only-500px,TopLeft,0,0_AA160_.jpg'}\n",
        "{u'ItemID': 9872, u'Url': u'http://www.amazon.com/1989-Taylor-Swift/dp/B00MRHANNI/ref=pd_sim_m_3?ie=UTF8&refRID=1K8Y170G44FNQP6RA2H5', u'_id': ObjectId('552f2d5a37902f043f83be21'), u'Thumbnail': u'http://ecx.images-amazon.com/images/I/41q3uhpDctL._AA160_.jpg'}\n",
        "{u'ItemID': 9890, u'Url': u'http://www.amazon.com/Cheek-Deluxe-Lady-Gaga/dp/B00MU79IL8/ref=sr_1_1?ie=UTF8&qid=1428964029&sr=8-1&keywords=lady+gaga', u'_id': ObjectId('552f2d5a37902f043f83be22'), u'Thumbnail': u'http://ecx.images-amazon.com/images/I/61J61fwud1L._AA160_.jpg'}\n",
        "{u'ItemID': 7584, u'Url': u'http://www.amazon.com/The-Lonely-Hour-Deluxe-Edition/dp/B00H3GZMIE/ref=pd_sim_m_2?ie=UTF8&refRID=1G47A5BAXVTPENQKE6AJ', u'_id': ObjectId('552f2d5a37902f043f83be23'), u'Thumbnail': u'http://ecx.images-amazon.com/images/I/616y3gmSmcL._AA160_.jpg'}\n",
        "{u'ItemID': 7513, u'Url': u'http://www.amazon.com/Hybrid-Theory-LINKIN-PARK/dp/B00004Z459/ref=sr_1_1?ie=UTF8&qid=1428964399&sr=8-1&keywords=linkin+park', u'_id': ObjectId('552f2d5a37902f043f83be24'), u'Thumbnail': u'http://ecx.images-amazon.com/images/I/613BBVSBnEL._AA160_.jpg'}\n",
        "{u'ItemID': 2437, u'Url': u'http://www.amazon.com/Hunting-Party-Linkin-Park/dp/B00JYKU6BK/ref=sr_1_2?ie=UTF8&qid=1428964432&sr=8-2&keywords=linkin+park', u'_id': ObjectId('552f2d5a37902f043f83be25'), u'Thumbnail': u'http://ecx.images-amazon.com/images/I/41yfeQmnysL._SX350_PI_PJStripe-Prime-Only-500px,TopLeft,0,0_AA160_.jpg'}\n"
       ]
      }
     ],
     "prompt_number": 58
    },
    {
     "cell_type": "code",
     "collapsed": false,
     "input": [
      "rating_remove_all()"
     ],
     "language": "python",
     "metadata": {},
     "outputs": [],
     "prompt_number": 48
    },
    {
     "cell_type": "code",
     "collapsed": false,
     "input": [
      "item_remove_all()"
     ],
     "language": "python",
     "metadata": {},
     "outputs": [],
     "prompt_number": 49
    },
    {
     "cell_type": "code",
     "collapsed": false,
     "input": [],
     "language": "python",
     "metadata": {},
     "outputs": [],
     "prompt_number": 48
    }
   ],
   "metadata": {}
  }
 ]
}