{
 "metadata": {
  "name": "",
  "signature": "sha256:604ed6233cb66843bdaa0c3f528bc77be31e29a1508652bc5e67ef68c36b5a81"
 },
 "nbformat": 3,
 "nbformat_minor": 0,
 "worksheets": [
  {
   "cells": [
    {
     "cell_type": "code",
     "collapsed": false,
     "input": [
      "import graphlab\n",
      "import datetime\n",
      " \n",
      "    \n",
      "def load_data_csv(csv):    \n",
      "    \"\"\"input:\n",
      "    csf file, type str \"rating.csv\"\n",
      "    output data for input in build model\n",
      "    \"\"\"\n",
      "    data = graphlab.SFrame.read_csv(csv, column_type_hints={\"Rating\":int})\n",
      "    return data\n",
      "data = load_data_csv(\"rating.csv\")"
     ],
     "language": "python",
     "metadata": {},
     "outputs": [
      {
       "html": [
        "<pre>PROGRESS: Finished parsing file /Users/Aaron/CF/rating.csv</pre>"
       ],
       "metadata": {},
       "output_type": "display_data",
       "text": [
        "PROGRESS: Finished parsing file /Users/Aaron/CF/rating.csv"
       ]
      },
      {
       "html": [
        "<pre>PROGRESS: Parsing completed. Parsed 1000 lines in 0.014907 secs.</pre>"
       ],
       "metadata": {},
       "output_type": "display_data",
       "text": [
        "PROGRESS: Parsing completed. Parsed 1000 lines in 0.014907 secs."
       ]
      }
     ],
     "prompt_number": 73
    },
    {
     "cell_type": "code",
     "collapsed": false,
     "input": [
      "def model_create(data):\n",
      "    \"\"\"input:\n",
      "    data from loading_csv\n",
      "    output:\n",
      "    constructed model for the rating table including the collaborative filtering matrix\n",
      "    saved model based on the timestamp\n",
      "    \"\"\"\n",
      "    model = graphlab.recommender.create(data, user_id=\"UID\", item_id=\"ItemID\", target=\"Rating\")\n",
      "    model.save(\"my_model\"+str(datetime.datetime.utcnow()))\n",
      "    return model\n",
      "model = model_create(data)"
     ],
     "language": "python",
     "metadata": {},
     "outputs": [
      {
       "html": [
        "<pre>PROGRESS: Recsys training: model = ranking_factorization_recommender</pre>"
       ],
       "metadata": {},
       "output_type": "display_data",
       "text": [
        "PROGRESS: Recsys training: model = ranking_factorization_recommender"
       ]
      },
      {
       "html": [
        "<pre>PROGRESS: Preparing data set.</pre>"
       ],
       "metadata": {},
       "output_type": "display_data",
       "text": [
        "PROGRESS: Preparing data set."
       ]
      },
      {
       "html": [
        "<pre>PROGRESS:     Data has 1000 observations with 620 users and 943 items.</pre>"
       ],
       "metadata": {},
       "output_type": "display_data",
       "text": [
        "PROGRESS:     Data has 1000 observations with 620 users and 943 items."
       ]
      },
      {
       "html": [
        "<pre>PROGRESS:     Data prepared in: 0.009523s</pre>"
       ],
       "metadata": {},
       "output_type": "display_data",
       "text": [
        "PROGRESS:     Data prepared in: 0.009523s"
       ]
      },
      {
       "html": [
        "<pre>PROGRESS: Training ranking_factorization_recommender for recommendations.</pre>"
       ],
       "metadata": {},
       "output_type": "display_data",
       "text": [
        "PROGRESS: Training ranking_factorization_recommender for recommendations."
       ]
      },
      {
       "html": [
        "<pre>PROGRESS: +--------------------------------+--------------------------------------------------+----------+</pre>"
       ],
       "metadata": {},
       "output_type": "display_data",
       "text": [
        "PROGRESS: +--------------------------------+--------------------------------------------------+----------+"
       ]
      },
      {
       "html": [
        "<pre>PROGRESS: | Parameter                      | Description                                      | Value    |</pre>"
       ],
       "metadata": {},
       "output_type": "display_data",
       "text": [
        "PROGRESS: | Parameter                      | Description                                      | Value    |"
       ]
      },
      {
       "html": [
        "<pre>PROGRESS: +--------------------------------+--------------------------------------------------+----------+</pre>"
       ],
       "metadata": {},
       "output_type": "display_data",
       "text": [
        "PROGRESS: +--------------------------------+--------------------------------------------------+----------+"
       ]
      },
      {
       "html": [
        "<pre>PROGRESS: | num_factors                    | Factor Dimension                                 | 32       |</pre>"
       ],
       "metadata": {},
       "output_type": "display_data",
       "text": [
        "PROGRESS: | num_factors                    | Factor Dimension                                 | 32       |"
       ]
      },
      {
       "html": [
        "<pre>PROGRESS: | regularization                 | L2 Regularization on Factors                     | 1e-09    |</pre>"
       ],
       "metadata": {},
       "output_type": "display_data",
       "text": [
        "PROGRESS: | regularization                 | L2 Regularization on Factors                     | 1e-09    |"
       ]
      },
      {
       "html": [
        "<pre>PROGRESS: | solver                         | Solver used for training                         | sgd      |</pre>"
       ],
       "metadata": {},
       "output_type": "display_data",
       "text": [
        "PROGRESS: | solver                         | Solver used for training                         | sgd      |"
       ]
      },
      {
       "html": [
        "<pre>PROGRESS: | linear_regularization          | L2 Regularization on Linear Coefficients         | 1e-09    |</pre>"
       ],
       "metadata": {},
       "output_type": "display_data",
       "text": [
        "PROGRESS: | linear_regularization          | L2 Regularization on Linear Coefficients         | 1e-09    |"
       ]
      },
      {
       "html": [
        "<pre>PROGRESS: | ranking_regularization         | Rank-based Regularization Weight                 | 0.25     |</pre>"
       ],
       "metadata": {},
       "output_type": "display_data",
       "text": [
        "PROGRESS: | ranking_regularization         | Rank-based Regularization Weight                 | 0.25     |"
       ]
      },
      {
       "html": [
        "<pre>PROGRESS: | max_iterations                 | Maximum Number of Iterations                     | 25       |</pre>"
       ],
       "metadata": {},
       "output_type": "display_data",
       "text": [
        "PROGRESS: | max_iterations                 | Maximum Number of Iterations                     | 25       |"
       ]
      },
      {
       "html": [
        "<pre>PROGRESS: +--------------------------------+--------------------------------------------------+----------+</pre>"
       ],
       "metadata": {},
       "output_type": "display_data",
       "text": [
        "PROGRESS: +--------------------------------+--------------------------------------------------+----------+"
       ]
      },
      {
       "html": [
        "<pre>PROGRESS:   Optimizing model using SGD; tuning step size.</pre>"
       ],
       "metadata": {},
       "output_type": "display_data",
       "text": [
        "PROGRESS:   Optimizing model using SGD; tuning step size."
       ]
      },
      {
       "html": [
        "<pre>PROGRESS:   Using 1000 / 1000 points for tuning the step size.</pre>"
       ],
       "metadata": {},
       "output_type": "display_data",
       "text": [
        "PROGRESS:   Using 1000 / 1000 points for tuning the step size."
       ]
      },
      {
       "html": [
        "<pre>PROGRESS: +---------+-------------------+------------------------------------------+</pre>"
       ],
       "metadata": {},
       "output_type": "display_data",
       "text": [
        "PROGRESS: +---------+-------------------+------------------------------------------+"
       ]
      },
      {
       "html": [
        "<pre>PROGRESS: | Attempt | Initial Step Size | Estimated Objective Value                |</pre>"
       ],
       "metadata": {},
       "output_type": "display_data",
       "text": [
        "PROGRESS: | Attempt | Initial Step Size | Estimated Objective Value                |"
       ]
      },
      {
       "html": [
        "<pre>PROGRESS: +---------+-------------------+------------------------------------------+</pre>"
       ],
       "metadata": {},
       "output_type": "display_data",
       "text": [
        "PROGRESS: +---------+-------------------+------------------------------------------+"
       ]
      },
      {
       "html": [
        "<pre>PROGRESS: | 0       | 25                | Not Viable                               |</pre>"
       ],
       "metadata": {},
       "output_type": "display_data",
       "text": [
        "PROGRESS: | 0       | 25                | Not Viable                               |"
       ]
      },
      {
       "html": [
        "<pre>PROGRESS: | 1       | 6.25              | Not Viable                               |</pre>"
       ],
       "metadata": {},
       "output_type": "display_data",
       "text": [
        "PROGRESS: | 1       | 6.25              | Not Viable                               |"
       ]
      },
      {
       "html": [
        "<pre>PROGRESS: | 2       | 1.5625            | Not Viable                               |</pre>"
       ],
       "metadata": {},
       "output_type": "display_data",
       "text": [
        "PROGRESS: | 2       | 1.5625            | Not Viable                               |"
       ]
      },
      {
       "html": [
        "<pre>PROGRESS: | 3       | 0.390625          | 0.182358                                 |</pre>"
       ],
       "metadata": {},
       "output_type": "display_data",
       "text": [
        "PROGRESS: | 3       | 0.390625          | 0.182358                                 |"
       ]
      },
      {
       "html": [
        "<pre>PROGRESS: | 4       | 0.195312          | 0.182169                                 |</pre>"
       ],
       "metadata": {},
       "output_type": "display_data",
       "text": [
        "PROGRESS: | 4       | 0.195312          | 0.182169                                 |"
       ]
      },
      {
       "html": [
        "<pre>PROGRESS: | 5       | 0.0976562         | 0.190553                                 |</pre>"
       ],
       "metadata": {},
       "output_type": "display_data",
       "text": [
        "PROGRESS: | 5       | 0.0976562         | 0.190553                                 |"
       ]
      },
      {
       "html": [
        "<pre>PROGRESS: | 6       | 0.0488281         | 0.207872                                 |</pre>"
       ],
       "metadata": {},
       "output_type": "display_data",
       "text": [
        "PROGRESS: | 6       | 0.0488281         | 0.207872                                 |"
       ]
      },
      {
       "html": [
        "<pre>PROGRESS: | 7       | 0.0244141         | 0.231764                                 |</pre>"
       ],
       "metadata": {},
       "output_type": "display_data",
       "text": [
        "PROGRESS: | 7       | 0.0244141         | 0.231764                                 |"
       ]
      },
      {
       "html": [
        "<pre>PROGRESS: +---------+-------------------+------------------------------------------+</pre>"
       ],
       "metadata": {},
       "output_type": "display_data",
       "text": [
        "PROGRESS: +---------+-------------------+------------------------------------------+"
       ]
      },
      {
       "html": [
        "<pre>PROGRESS: | Final   | 0.195312          | 0.182169                                 |</pre>"
       ],
       "metadata": {},
       "output_type": "display_data",
       "text": [
        "PROGRESS: | Final   | 0.195312          | 0.182169                                 |"
       ]
      },
      {
       "html": [
        "<pre>PROGRESS: +---------+-------------------+------------------------------------------+</pre>"
       ],
       "metadata": {},
       "output_type": "display_data",
       "text": [
        "PROGRESS: +---------+-------------------+------------------------------------------+"
       ]
      },
      {
       "html": [
        "<pre>PROGRESS: Starting Optimization.</pre>"
       ],
       "metadata": {},
       "output_type": "display_data",
       "text": [
        "PROGRESS: Starting Optimization."
       ]
      },
      {
       "html": [
        "<pre>PROGRESS: +---------+--------------+-------------------+-----------------------+-------------+</pre>"
       ],
       "metadata": {},
       "output_type": "display_data",
       "text": [
        "PROGRESS: +---------+--------------+-------------------+-----------------------+-------------+"
       ]
      },
      {
       "html": [
        "<pre>PROGRESS: | Iter.   | Elapsed Time | Approx. Objective | Approx. Training RMSE | Step Size   |</pre>"
       ],
       "metadata": {},
       "output_type": "display_data",
       "text": [
        "PROGRESS: | Iter.   | Elapsed Time | Approx. Objective | Approx. Training RMSE | Step Size   |"
       ]
      },
      {
       "html": [
        "<pre>PROGRESS: +---------+--------------+-------------------+-----------------------+-------------+</pre>"
       ],
       "metadata": {},
       "output_type": "display_data",
       "text": [
        "PROGRESS: +---------+--------------+-------------------+-----------------------+-------------+"
       ]
      },
      {
       "html": [
        "<pre>PROGRESS: | Initial | 475us        | 0.284556          | 0.380826              |             |</pre>"
       ],
       "metadata": {},
       "output_type": "display_data",
       "text": [
        "PROGRESS: | Initial | 475us        | 0.284556          | 0.380826              |             |"
       ]
      },
      {
       "html": [
        "<pre>PROGRESS: +---------+--------------+-------------------+-----------------------+-------------+</pre>"
       ],
       "metadata": {},
       "output_type": "display_data",
       "text": [
        "PROGRESS: +---------+--------------+-------------------+-----------------------+-------------+"
       ]
      },
      {
       "html": [
        "<pre>PROGRESS: | 1       | 22.925ms     | 0.329208          | 0.403279              | 0.195312    |</pre>"
       ],
       "metadata": {},
       "output_type": "display_data",
       "text": [
        "PROGRESS: | 1       | 22.925ms     | 0.329208          | 0.403279              | 0.195312    |"
       ]
      },
      {
       "html": [
        "<pre>PROGRESS: | 2       | 34.241ms     | 0.247056          | 0.294859              | 0.116134    |</pre>"
       ],
       "metadata": {},
       "output_type": "display_data",
       "text": [
        "PROGRESS: | 2       | 34.241ms     | 0.247056          | 0.294859              | 0.116134    |"
       ]
      },
      {
       "html": [
        "<pre>PROGRESS: | 3       | 51.911ms     | 0.219143          | 0.270986              | 0.0856819   |</pre>"
       ],
       "metadata": {},
       "output_type": "display_data",
       "text": [
        "PROGRESS: | 3       | 51.911ms     | 0.219143          | 0.270986              | 0.0856819   |"
       ]
      },
      {
       "html": [
        "<pre>PROGRESS: | 4       | 73.461ms     | 0.208683          | 0.25867               | 0.0580668   |</pre>"
       ],
       "metadata": {},
       "output_type": "display_data",
       "text": [
        "PROGRESS: | 4       | 73.461ms     | 0.208683          | 0.25867               | 0.0580668   |"
       ]
      },
      {
       "html": [
        "<pre>PROGRESS: | 5       | 85.788ms     | 0.200169          | 0.255066              | 0.0491185   |</pre>"
       ],
       "metadata": {},
       "output_type": "display_data",
       "text": [
        "PROGRESS: | 5       | 85.788ms     | 0.200169          | 0.255066              | 0.0491185   |"
       ]
      },
      {
       "html": [
        "<pre>PROGRESS: | 6       | 102.29ms     | 0.195823          | 0.252436              | 0.042841    |</pre>"
       ],
       "metadata": {},
       "output_type": "display_data",
       "text": [
        "PROGRESS: | 6       | 102.29ms     | 0.195823          | 0.252436              | 0.042841    |"
       ]
      },
      {
       "html": [
        "<pre>PROGRESS: | 11      | 161.891ms    | 0.188374          | 0.247231              | 0.0271912   |</pre>"
       ],
       "metadata": {},
       "output_type": "display_data",
       "text": [
        "PROGRESS: | 11      | 161.891ms    | 0.188374          | 0.247231              | 0.0271912   |"
       ]
      },
      {
       "html": [
        "<pre>PROGRESS: +---------+--------------+-------------------+-----------------------+-------------+</pre>"
       ],
       "metadata": {},
       "output_type": "display_data",
       "text": [
        "PROGRESS: +---------+--------------+-------------------+-----------------------+-------------+"
       ]
      },
      {
       "html": [
        "<pre>PROGRESS: Optimization Complete: Maximum number of passes through the data reached.</pre>"
       ],
       "metadata": {},
       "output_type": "display_data",
       "text": [
        "PROGRESS: Optimization Complete: Maximum number of passes through the data reached."
       ]
      },
      {
       "html": [
        "<pre>PROGRESS: Computing final objective value and training RMSE.</pre>"
       ],
       "metadata": {},
       "output_type": "display_data",
       "text": [
        "PROGRESS: Computing final objective value and training RMSE."
       ]
      },
      {
       "html": [
        "<pre>PROGRESS:        Final objective value: 0.177928</pre>"
       ],
       "metadata": {},
       "output_type": "display_data",
       "text": [
        "PROGRESS:        Final objective value: 0.177928"
       ]
      },
      {
       "html": [
        "<pre>PROGRESS:        Final training RMSE: 0.23587</pre>"
       ],
       "metadata": {},
       "output_type": "display_data",
       "text": [
        "PROGRESS:        Final training RMSE: 0.23587"
       ]
      }
     ],
     "prompt_number": 74
    },
    {
     "cell_type": "code",
     "collapsed": false,
     "input": [
      "def recommend(usersl,n):\n",
      "    \"\"\"input:\n",
      "        usersl:list of user e.g [1,2]\n",
      "        n: number of item to recommend for each user\n",
      "        output:\n",
      "        results for recommend\n",
      "    \"\"\"\n",
      "    results = model.recommend(users=usersl , k=n)\n",
      "    \n",
      "    return results\n",
      "results = recommend([1,2],10)\n",
      "results.head()"
     ],
     "language": "python",
     "metadata": {},
     "outputs": [
      {
       "html": [
        "<div style=\"max-height:1000px;max-width:1500px;overflow:auto;\"><table frame=\"box\" rules=\"cols\">\n",
        "    <tr>\n",
        "        <th style=\"padding-left: 1em; padding-right: 1em; text-align: center\">UID</th>\n",
        "        <th style=\"padding-left: 1em; padding-right: 1em; text-align: center\">ItemID</th>\n",
        "        <th style=\"padding-left: 1em; padding-right: 1em; text-align: center\">score</th>\n",
        "        <th style=\"padding-left: 1em; padding-right: 1em; text-align: center\">rank</th>\n",
        "    </tr>\n",
        "    <tr>\n",
        "        <td style=\"padding-left: 1em; padding-right: 1em; text-align: center; vertical-align: top\">1</td>\n",
        "        <td style=\"padding-left: 1em; padding-right: 1em; text-align: center; vertical-align: top\">9872</td>\n",
        "        <td style=\"padding-left: 1em; padding-right: 1em; text-align: center; vertical-align: top\">0.389488027453</td>\n",
        "        <td style=\"padding-left: 1em; padding-right: 1em; text-align: center; vertical-align: top\">1</td>\n",
        "    </tr>\n",
        "    <tr>\n",
        "        <td style=\"padding-left: 1em; padding-right: 1em; text-align: center; vertical-align: top\">1</td>\n",
        "        <td style=\"padding-left: 1em; padding-right: 1em; text-align: center; vertical-align: top\">9890</td>\n",
        "        <td style=\"padding-left: 1em; padding-right: 1em; text-align: center; vertical-align: top\">0.376208708644</td>\n",
        "        <td style=\"padding-left: 1em; padding-right: 1em; text-align: center; vertical-align: top\">2</td>\n",
        "    </tr>\n",
        "    <tr>\n",
        "        <td style=\"padding-left: 1em; padding-right: 1em; text-align: center; vertical-align: top\">1</td>\n",
        "        <td style=\"padding-left: 1em; padding-right: 1em; text-align: center; vertical-align: top\">7584</td>\n",
        "        <td style=\"padding-left: 1em; padding-right: 1em; text-align: center; vertical-align: top\">0.364905477524</td>\n",
        "        <td style=\"padding-left: 1em; padding-right: 1em; text-align: center; vertical-align: top\">3</td>\n",
        "    </tr>\n",
        "    <tr>\n",
        "        <td style=\"padding-left: 1em; padding-right: 1em; text-align: center; vertical-align: top\">1</td>\n",
        "        <td style=\"padding-left: 1em; padding-right: 1em; text-align: center; vertical-align: top\">7513</td>\n",
        "        <td style=\"padding-left: 1em; padding-right: 1em; text-align: center; vertical-align: top\">0.362915934086</td>\n",
        "        <td style=\"padding-left: 1em; padding-right: 1em; text-align: center; vertical-align: top\">4</td>\n",
        "    </tr>\n",
        "    <tr>\n",
        "        <td style=\"padding-left: 1em; padding-right: 1em; text-align: center; vertical-align: top\">1</td>\n",
        "        <td style=\"padding-left: 1em; padding-right: 1em; text-align: center; vertical-align: top\">2437</td>\n",
        "        <td style=\"padding-left: 1em; padding-right: 1em; text-align: center; vertical-align: top\">0.342185364127</td>\n",
        "        <td style=\"padding-left: 1em; padding-right: 1em; text-align: center; vertical-align: top\">5</td>\n",
        "    </tr>\n",
        "    <tr>\n",
        "        <td style=\"padding-left: 1em; padding-right: 1em; text-align: center; vertical-align: top\">1</td>\n",
        "        <td style=\"padding-left: 1em; padding-right: 1em; text-align: center; vertical-align: top\">6810</td>\n",
        "        <td style=\"padding-left: 1em; padding-right: 1em; text-align: center; vertical-align: top\">0.340496392012</td>\n",
        "        <td style=\"padding-left: 1em; padding-right: 1em; text-align: center; vertical-align: top\">6</td>\n",
        "    </tr>\n",
        "    <tr>\n",
        "        <td style=\"padding-left: 1em; padding-right: 1em; text-align: center; vertical-align: top\">1</td>\n",
        "        <td style=\"padding-left: 1em; padding-right: 1em; text-align: center; vertical-align: top\">3328</td>\n",
        "        <td style=\"padding-left: 1em; padding-right: 1em; text-align: center; vertical-align: top\">0.332010895967</td>\n",
        "        <td style=\"padding-left: 1em; padding-right: 1em; text-align: center; vertical-align: top\">7</td>\n",
        "    </tr>\n",
        "    <tr>\n",
        "        <td style=\"padding-left: 1em; padding-right: 1em; text-align: center; vertical-align: top\">1</td>\n",
        "        <td style=\"padding-left: 1em; padding-right: 1em; text-align: center; vertical-align: top\">7992</td>\n",
        "        <td style=\"padding-left: 1em; padding-right: 1em; text-align: center; vertical-align: top\">0.320444972277</td>\n",
        "        <td style=\"padding-left: 1em; padding-right: 1em; text-align: center; vertical-align: top\">8</td>\n",
        "    </tr>\n",
        "    <tr>\n",
        "        <td style=\"padding-left: 1em; padding-right: 1em; text-align: center; vertical-align: top\">1</td>\n",
        "        <td style=\"padding-left: 1em; padding-right: 1em; text-align: center; vertical-align: top\">5678</td>\n",
        "        <td style=\"padding-left: 1em; padding-right: 1em; text-align: center; vertical-align: top\">0.317038373113</td>\n",
        "        <td style=\"padding-left: 1em; padding-right: 1em; text-align: center; vertical-align: top\">9</td>\n",
        "    </tr>\n",
        "    <tr>\n",
        "        <td style=\"padding-left: 1em; padding-right: 1em; text-align: center; vertical-align: top\">1</td>\n",
        "        <td style=\"padding-left: 1em; padding-right: 1em; text-align: center; vertical-align: top\">4111</td>\n",
        "        <td style=\"padding-left: 1em; padding-right: 1em; text-align: center; vertical-align: top\">0.316456333756</td>\n",
        "        <td style=\"padding-left: 1em; padding-right: 1em; text-align: center; vertical-align: top\">10</td>\n",
        "    </tr>\n",
        "</table>\n",
        "[10 rows x 4 columns]<br/>\n",
        "</div>"
       ],
       "metadata": {},
       "output_type": "pyout",
       "prompt_number": 79,
       "text": [
        "Columns:\n",
        "\tUID\tstr\n",
        "\tItemID\tstr\n",
        "\tscore\tfloat\n",
        "\trank\tint\n",
        "\n",
        "Rows: 10\n",
        "\n",
        "Data:\n",
        "+-----+--------+----------------+------+\n",
        "| UID | ItemID |     score      | rank |\n",
        "+-----+--------+----------------+------+\n",
        "|  1  |  9872  | 0.389488027453 |  1   |\n",
        "|  1  |  9890  | 0.376208708644 |  2   |\n",
        "|  1  |  7584  | 0.364905477524 |  3   |\n",
        "|  1  |  7513  | 0.362915934086 |  4   |\n",
        "|  1  |  2437  | 0.342185364127 |  5   |\n",
        "|  1  |  6810  | 0.340496392012 |  6   |\n",
        "|  1  |  3328  | 0.332010895967 |  7   |\n",
        "|  1  |  7992  | 0.320444972277 |  8   |\n",
        "|  1  |  5678  | 0.317038373113 |  9   |\n",
        "|  1  |  4111  | 0.316456333756 |  10  |\n",
        "+-----+--------+----------------+------+\n",
        "[10 rows x 4 columns]"
       ]
      }
     ],
     "prompt_number": 79
    },
    {
     "cell_type": "code",
     "collapsed": false,
     "input": [
      "def load_model(model):\n",
      "    \"\"\" input:\n",
      "    model name in str format\n",
      "    output:\n",
      "    loaded model\n",
      "    \"\"\"\n",
      "    loaded_model = graphlab.load_model(model)\n",
      "    return loaded_model\n"
     ],
     "language": "python",
     "metadata": {},
     "outputs": [],
     "prompt_number": 76
    },
    {
     "cell_type": "markdown",
     "metadata": {},
     "source": [
      "below is the goal for output json for particular user."
     ]
    },
    {
     "cell_type": "code",
     "collapsed": false,
     "input": [
      "#recommend to the end user the highest five(default) item in rank calculated in collaborative filtering \n",
      "import mongodb\n",
      "import pprint\n",
      "import json\n",
      "def recommend_json(user,n=None):\n",
      "    \"\"\"\n",
      "    input:\n",
      "    user: list of user(s) to return result. Example: [\"john\"]\n",
      "    n:number of result for each user, default 5\n",
      "    output:\n",
      "    itemID: this can be used to retrieve info in item db to get avatar and url for this item for recommend in d3\n",
      "    item prediciton score for this user \n",
      "    # now i choose to save json to the root directory\n",
      "    {\n",
      "        \"UID\":[\n",
      "        {\"ItemID\":\"1\",\"Thumbnail\":\"some image url\",\"Url\":\"item url\"},\n",
      "        {\"ItemID\":\"21\",\"Thumbnail\":\"some image url\",\"Url\":\"item url\"},\n",
      "        {\"ItemID\":\"43\",\"Thumbnail\":\"some image url\",\"Url\":\"item url\"},\n",
      "        {\"ItemID\":\"45\",\"Thumbnail\":\"some image url\",\"Url\":\"item url\"},\n",
      "        {\"ItemID\":\"59\",\"Thumbnail\":\"some image url\",\"Url\":\"item url\"}\n",
      "        ]\n",
      "        \"UID\":[\n",
      "        {\"ItemID\":\"1\",\"Thumbnail\":\"some image url\",\"Url\":\"item url\"},\n",
      "        {\"ItemID\":\"21\",\"Thumbnail\":\"some image url\",\"Url\":\"item url\"},\n",
      "        {\"ItemID\":\"43\",\"Thumbnail\":\"some image url\",\"Url\":\"item url\"},\n",
      "        {\"ItemID\":\"45\",\"Thumbnail\":\"some image url\",\"Url\":\"item url\"},\n",
      "        {\"ItemID\":\"59\",\"Thumbnail\":\"some image url\",\"Url\":\"item url\"}\n",
      "        ]...\n",
      "    }\n",
      "    \"\"\"\n",
      "    if n is None:\n",
      "        n =5\n",
      "    \n",
      "    results = model.recommend(users=user, k=n)\n",
      "    items = results[:]['ItemID']\n",
      "    \n",
      "    item_json = {}\n",
      "    item_json['UID'] = []\n",
      "    for b in items:\n",
      "        for a in mongodb.find_item(int(b)):\n",
      "            item = {\"ItemID\":a[\"ItemID\"],\"Thumbnail\":a[\"Thumbnail\"],\"Url\":a[\"Url\"]}\n",
      "            item_json['UID'].append(item)   \n",
      "        json_data = json.dumps(item_json)  \n",
      "    with open('json_item.json', 'w') as outfile:\n",
      "        json.dump(json.loads(json_data), outfile)\n",
      "    #return json_data\n",
      "\n",
      "recommend_json([1])"
     ],
     "language": "python",
     "metadata": {},
     "outputs": [],
     "prompt_number": 81
    },
    {
     "cell_type": "code",
     "collapsed": false,
     "input": [
      "'''\n",
      "import json\n",
      "data = {}\n",
      "a = {\"ItemID\":\"59\",\"Thumbnail\":\"some image url\",\"Url\":\"item url\"}\n",
      "b = {\"ItemID\":\"21\",\"Thumbnail\":\"some image url\",\"Url\":\"item url\"}\n",
      "data['key'] = []\n",
      "data['key'].append(a)\n",
      "data['key'].append(b)\n",
      "\n",
      "json_data = json.dumps(data)\n",
      "print json_data\n",
      "'''"
     ],
     "language": "python",
     "metadata": {},
     "outputs": [
      {
       "metadata": {},
       "output_type": "pyout",
       "prompt_number": 63,
       "text": [
        "'\\nimport json\\ndata = {}\\na = {\"ItemID\":\"59\",\"Thumbnail\":\"some image url\",\"Url\":\"item url\"}\\nb = {\"ItemID\":\"21\",\"Thumbnail\":\"some image url\",\"Url\":\"item url\"}\\ndata[\\'key\\'] = []\\ndata[\\'key\\'].append(a)\\ndata[\\'key\\'].append(b)\\n\\njson_data = json.dumps(data)\\nprint json_data\\n'"
       ]
      }
     ],
     "prompt_number": 63
    },
    {
     "cell_type": "code",
     "collapsed": false,
     "input": [
      "def similarity(data):\n",
      "    \"\"\"\n",
      "    input:\n",
      "    data from loading_csv\n",
      "    output:\n",
      "    a big table find each item with its similar item(s)\n",
      "    \"\"\"\n",
      "    similar = graphlab.recommender.item_similarity_recommender.create(data,user_id=\"UID\", item_id=\"ItemID\", target=\"Rating\")\n",
      "    similar_table = similar.get_similar_items()\n",
      "    return similar_table\n",
      "similarity(data)"
     ],
     "language": "python",
     "metadata": {},
     "outputs": [
      {
       "html": [
        "<pre>PROGRESS: Recsys training: model = item_similarity</pre>"
       ],
       "metadata": {},
       "output_type": "display_data",
       "text": [
        "PROGRESS: Recsys training: model = item_similarity"
       ]
      },
      {
       "html": [
        "<pre>PROGRESS: Preparing data set.</pre>"
       ],
       "metadata": {},
       "output_type": "display_data",
       "text": [
        "PROGRESS: Preparing data set."
       ]
      },
      {
       "html": [
        "<pre>PROGRESS:     Data has 1000 observations with 620 users and 943 items.</pre>"
       ],
       "metadata": {},
       "output_type": "display_data",
       "text": [
        "PROGRESS:     Data has 1000 observations with 620 users and 943 items."
       ]
      },
      {
       "html": [
        "<pre>PROGRESS:     Data prepared in: 0.00993s</pre>"
       ],
       "metadata": {},
       "output_type": "display_data",
       "text": [
        "PROGRESS:     Data prepared in: 0.00993s"
       ]
      },
      {
       "html": [
        "<pre>PROGRESS: Computing item similarity statistics:</pre>"
       ],
       "metadata": {},
       "output_type": "display_data",
       "text": [
        "PROGRESS: Computing item similarity statistics:"
       ]
      },
      {
       "html": [
        "<pre>PROGRESS: Computing most similar items for 943 items:</pre>"
       ],
       "metadata": {},
       "output_type": "display_data",
       "text": [
        "PROGRESS: Computing most similar items for 943 items:"
       ]
      },
      {
       "html": [
        "<pre>PROGRESS: Finished training in 0.01957s</pre>"
       ],
       "metadata": {},
       "output_type": "display_data",
       "text": [
        "PROGRESS: Finished training in 0.01957s"
       ]
      },
      {
       "html": [
        "<pre>PROGRESS: Finished prediction in 0.001784s</pre>"
       ],
       "metadata": {},
       "output_type": "display_data",
       "text": [
        "PROGRESS: Finished prediction in 0.001784s"
       ]
      },
      {
       "html": [
        "<pre>PROGRESS: Getting similar items completed in 0.010579</pre>"
       ],
       "metadata": {},
       "output_type": "display_data",
       "text": [
        "PROGRESS: Getting similar items completed in 0.010579"
       ]
      },
      {
       "html": [
        "<div style=\"max-height:1000px;max-width:1500px;overflow:auto;\"><table frame=\"box\" rules=\"cols\">\n",
        "    <tr>\n",
        "        <th style=\"padding-left: 1em; padding-right: 1em; text-align: center\">ItemID</th>\n",
        "        <th style=\"padding-left: 1em; padding-right: 1em; text-align: center\">similar</th>\n",
        "        <th style=\"padding-left: 1em; padding-right: 1em; text-align: center\">score</th>\n",
        "        <th style=\"padding-left: 1em; padding-right: 1em; text-align: center\">rank</th>\n",
        "    </tr>\n",
        "    <tr>\n",
        "        <td style=\"padding-left: 1em; padding-right: 1em; text-align: center; vertical-align: top\">2869</td>\n",
        "        <td style=\"padding-left: 1em; padding-right: 1em; text-align: center; vertical-align: top\">9346</td>\n",
        "        <td style=\"padding-left: 1em; padding-right: 1em; text-align: center; vertical-align: top\">0.5</td>\n",
        "        <td style=\"padding-left: 1em; padding-right: 1em; text-align: center; vertical-align: top\">1</td>\n",
        "    </tr>\n",
        "    <tr>\n",
        "        <td style=\"padding-left: 1em; padding-right: 1em; text-align: center; vertical-align: top\">8890</td>\n",
        "        <td style=\"padding-left: 1em; padding-right: 1em; text-align: center; vertical-align: top\">92</td>\n",
        "        <td style=\"padding-left: 1em; padding-right: 1em; text-align: center; vertical-align: top\">1.0</td>\n",
        "        <td style=\"padding-left: 1em; padding-right: 1em; text-align: center; vertical-align: top\">1</td>\n",
        "    </tr>\n",
        "    <tr>\n",
        "        <td style=\"padding-left: 1em; padding-right: 1em; text-align: center; vertical-align: top\">9823</td>\n",
        "        <td style=\"padding-left: 1em; padding-right: 1em; text-align: center; vertical-align: top\">4419</td>\n",
        "        <td style=\"padding-left: 1em; padding-right: 1em; text-align: center; vertical-align: top\">0.5</td>\n",
        "        <td style=\"padding-left: 1em; padding-right: 1em; text-align: center; vertical-align: top\">1</td>\n",
        "    </tr>\n",
        "    <tr>\n",
        "        <td style=\"padding-left: 1em; padding-right: 1em; text-align: center; vertical-align: top\">5002</td>\n",
        "        <td style=\"padding-left: 1em; padding-right: 1em; text-align: center; vertical-align: top\">505</td>\n",
        "        <td style=\"padding-left: 1em; padding-right: 1em; text-align: center; vertical-align: top\">1.0</td>\n",
        "        <td style=\"padding-left: 1em; padding-right: 1em; text-align: center; vertical-align: top\">1</td>\n",
        "    </tr>\n",
        "    <tr>\n",
        "        <td style=\"padding-left: 1em; padding-right: 1em; text-align: center; vertical-align: top\">5002</td>\n",
        "        <td style=\"padding-left: 1em; padding-right: 1em; text-align: center; vertical-align: top\">3234</td>\n",
        "        <td style=\"padding-left: 1em; padding-right: 1em; text-align: center; vertical-align: top\">1.0</td>\n",
        "        <td style=\"padding-left: 1em; padding-right: 1em; text-align: center; vertical-align: top\">2</td>\n",
        "    </tr>\n",
        "    <tr>\n",
        "        <td style=\"padding-left: 1em; padding-right: 1em; text-align: center; vertical-align: top\">5002</td>\n",
        "        <td style=\"padding-left: 1em; padding-right: 1em; text-align: center; vertical-align: top\">4994</td>\n",
        "        <td style=\"padding-left: 1em; padding-right: 1em; text-align: center; vertical-align: top\">0.5</td>\n",
        "        <td style=\"padding-left: 1em; padding-right: 1em; text-align: center; vertical-align: top\">3</td>\n",
        "    </tr>\n",
        "    <tr>\n",
        "        <td style=\"padding-left: 1em; padding-right: 1em; text-align: center; vertical-align: top\">2642</td>\n",
        "        <td style=\"padding-left: 1em; padding-right: 1em; text-align: center; vertical-align: top\">7348</td>\n",
        "        <td style=\"padding-left: 1em; padding-right: 1em; text-align: center; vertical-align: top\">1.0</td>\n",
        "        <td style=\"padding-left: 1em; padding-right: 1em; text-align: center; vertical-align: top\">1</td>\n",
        "    </tr>\n",
        "    <tr>\n",
        "        <td style=\"padding-left: 1em; padding-right: 1em; text-align: center; vertical-align: top\">7992</td>\n",
        "        <td style=\"padding-left: 1em; padding-right: 1em; text-align: center; vertical-align: top\">1781</td>\n",
        "        <td style=\"padding-left: 1em; padding-right: 1em; text-align: center; vertical-align: top\">1.0</td>\n",
        "        <td style=\"padding-left: 1em; padding-right: 1em; text-align: center; vertical-align: top\">1</td>\n",
        "    </tr>\n",
        "    <tr>\n",
        "        <td style=\"padding-left: 1em; padding-right: 1em; text-align: center; vertical-align: top\">7992</td>\n",
        "        <td style=\"padding-left: 1em; padding-right: 1em; text-align: center; vertical-align: top\">9313</td>\n",
        "        <td style=\"padding-left: 1em; padding-right: 1em; text-align: center; vertical-align: top\">1.0</td>\n",
        "        <td style=\"padding-left: 1em; padding-right: 1em; text-align: center; vertical-align: top\">2</td>\n",
        "    </tr>\n",
        "    <tr>\n",
        "        <td style=\"padding-left: 1em; padding-right: 1em; text-align: center; vertical-align: top\">684</td>\n",
        "        <td style=\"padding-left: 1em; padding-right: 1em; text-align: center; vertical-align: top\">9182</td>\n",
        "        <td style=\"padding-left: 1em; padding-right: 1em; text-align: center; vertical-align: top\">1.0</td>\n",
        "        <td style=\"padding-left: 1em; padding-right: 1em; text-align: center; vertical-align: top\">1</td>\n",
        "    </tr>\n",
        "    <tr>\n",
        "        <td style=\"padding-left: 1em; padding-right: 1em; text-align: center; vertical-align: top\">...</td>\n",
        "        <td style=\"padding-left: 1em; padding-right: 1em; text-align: center; vertical-align: top\">...</td>\n",
        "        <td style=\"padding-left: 1em; padding-right: 1em; text-align: center; vertical-align: top\">...</td>\n",
        "        <td style=\"padding-left: 1em; padding-right: 1em; text-align: center; vertical-align: top\">...</td>\n",
        "    </tr>\n",
        "</table>\n",
        "[1000 rows x 4 columns]<br/>Note: Only the head of the SFrame is printed.<br/>You can use print_rows(num_rows=m, num_columns=n) to print more rows and columns.\n",
        "</div>"
       ],
       "metadata": {},
       "output_type": "pyout",
       "prompt_number": 84,
       "text": [
        "Columns:\n",
        "\tItemID\tstr\n",
        "\tsimilar\tstr\n",
        "\tscore\tfloat\n",
        "\trank\tint\n",
        "\n",
        "Rows: 1000\n",
        "\n",
        "Data:\n",
        "+--------+---------+-------+------+\n",
        "| ItemID | similar | score | rank |\n",
        "+--------+---------+-------+------+\n",
        "|  2869  |   9346  |  0.5  |  1   |\n",
        "|  8890  |    92   |  1.0  |  1   |\n",
        "|  9823  |   4419  |  0.5  |  1   |\n",
        "|  5002  |   505   |  1.0  |  1   |\n",
        "|  5002  |   3234  |  1.0  |  2   |\n",
        "|  5002  |   4994  |  0.5  |  3   |\n",
        "|  2642  |   7348  |  1.0  |  1   |\n",
        "|  7992  |   1781  |  1.0  |  1   |\n",
        "|  7992  |   9313  |  1.0  |  2   |\n",
        "|  684   |   9182  |  1.0  |  1   |\n",
        "|  ...   |   ...   |  ...  | ...  |\n",
        "+--------+---------+-------+------+\n",
        "[1000 rows x 4 columns]\n",
        "Note: Only the head of the SFrame is printed.\n",
        "You can use print_rows(num_rows=m, num_columns=n) to print more rows and columns."
       ]
      }
     ],
     "prompt_number": 84
    },
    {
     "cell_type": "code",
     "collapsed": false,
     "input": [],
     "language": "python",
     "metadata": {},
     "outputs": []
    }
   ],
   "metadata": {}
  }
 ]
}