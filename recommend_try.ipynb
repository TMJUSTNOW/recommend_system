{
 "metadata": {
  "name": "",
  "signature": "sha256:ac1de097c87c17d2878490ae08763d5f7158b40951ae171177317933413cd03e"
 },
 "nbformat": 3,
 "nbformat_minor": 0,
 "worksheets": [
  {
   "cells": [
    {
     "cell_type": "code",
     "collapsed": false,
     "input": [
      "import graphlab\n",
      "data = graphlab.SFrame.read_csv(\"http://s3.amazonaws.com/dato-datasets/movie_ratings/training_data.csv\", column_type_hints={\"rating\":int})\n",
      "data.head()\n"
     ],
     "language": "python",
     "metadata": {},
     "outputs": [
      {
       "html": [
        "<pre>PROGRESS: Finished parsing file http://s3.amazonaws.com/dato-datasets/movie_ratings/training_data.csv</pre>"
       ],
       "metadata": {},
       "output_type": "display_data",
       "text": [
        "PROGRESS: Finished parsing file http://s3.amazonaws.com/dato-datasets/movie_ratings/training_data.csv"
       ]
      },
      {
       "html": [
        "<pre>PROGRESS: Parsing completed. Parsed 82068 lines in 0.158276 secs.</pre>"
       ],
       "metadata": {},
       "output_type": "display_data",
       "text": [
        "PROGRESS: Parsing completed. Parsed 82068 lines in 0.158276 secs."
       ]
      },
      {
       "html": [
        "<div style=\"max-height:1000px;max-width:1500px;overflow:auto;\"><table frame=\"box\" rules=\"cols\">\n",
        "    <tr>\n",
        "        <th style=\"padding-left: 1em; padding-right: 1em; text-align: center\">user</th>\n",
        "        <th style=\"padding-left: 1em; padding-right: 1em; text-align: center\">movie</th>\n",
        "        <th style=\"padding-left: 1em; padding-right: 1em; text-align: center\">rating</th>\n",
        "    </tr>\n",
        "    <tr>\n",
        "        <td style=\"padding-left: 1em; padding-right: 1em; text-align: center; vertical-align: top\">Jacob Smith</td>\n",
        "        <td style=\"padding-left: 1em; padding-right: 1em; text-align: center; vertical-align: top\">Flirting with Disaster</td>\n",
        "        <td style=\"padding-left: 1em; padding-right: 1em; text-align: center; vertical-align: top\">4</td>\n",
        "    </tr>\n",
        "    <tr>\n",
        "        <td style=\"padding-left: 1em; padding-right: 1em; text-align: center; vertical-align: top\">Jacob Smith</td>\n",
        "        <td style=\"padding-left: 1em; padding-right: 1em; text-align: center; vertical-align: top\">Indecent Proposal</td>\n",
        "        <td style=\"padding-left: 1em; padding-right: 1em; text-align: center; vertical-align: top\">3</td>\n",
        "    </tr>\n",
        "    <tr>\n",
        "        <td style=\"padding-left: 1em; padding-right: 1em; text-align: center; vertical-align: top\">Jacob Smith</td>\n",
        "        <td style=\"padding-left: 1em; padding-right: 1em; text-align: center; vertical-align: top\">Runaway Bride</td>\n",
        "        <td style=\"padding-left: 1em; padding-right: 1em; text-align: center; vertical-align: top\">2</td>\n",
        "    </tr>\n",
        "    <tr>\n",
        "        <td style=\"padding-left: 1em; padding-right: 1em; text-align: center; vertical-align: top\">Jacob Smith</td>\n",
        "        <td style=\"padding-left: 1em; padding-right: 1em; text-align: center; vertical-align: top\">Swiss Family Robinson</td>\n",
        "        <td style=\"padding-left: 1em; padding-right: 1em; text-align: center; vertical-align: top\">1</td>\n",
        "    </tr>\n",
        "    <tr>\n",
        "        <td style=\"padding-left: 1em; padding-right: 1em; text-align: center; vertical-align: top\">Jacob Smith</td>\n",
        "        <td style=\"padding-left: 1em; padding-right: 1em; text-align: center; vertical-align: top\">The Mexican</td>\n",
        "        <td style=\"padding-left: 1em; padding-right: 1em; text-align: center; vertical-align: top\">2</td>\n",
        "    </tr>\n",
        "    <tr>\n",
        "        <td style=\"padding-left: 1em; padding-right: 1em; text-align: center; vertical-align: top\">Jacob Smith</td>\n",
        "        <td style=\"padding-left: 1em; padding-right: 1em; text-align: center; vertical-align: top\">Maid in Manhattan</td>\n",
        "        <td style=\"padding-left: 1em; padding-right: 1em; text-align: center; vertical-align: top\">4</td>\n",
        "    </tr>\n",
        "    <tr>\n",
        "        <td style=\"padding-left: 1em; padding-right: 1em; text-align: center; vertical-align: top\">Jacob Smith</td>\n",
        "        <td style=\"padding-left: 1em; padding-right: 1em; text-align: center; vertical-align: top\">A Charlie Brown<br>Thanksgiving / The ...</td>\n",
        "        <td style=\"padding-left: 1em; padding-right: 1em; text-align: center; vertical-align: top\">3</td>\n",
        "    </tr>\n",
        "    <tr>\n",
        "        <td style=\"padding-left: 1em; padding-right: 1em; text-align: center; vertical-align: top\">Jacob Smith</td>\n",
        "        <td style=\"padding-left: 1em; padding-right: 1em; text-align: center; vertical-align: top\">Brazil</td>\n",
        "        <td style=\"padding-left: 1em; padding-right: 1em; text-align: center; vertical-align: top\">1</td>\n",
        "    </tr>\n",
        "    <tr>\n",
        "        <td style=\"padding-left: 1em; padding-right: 1em; text-align: center; vertical-align: top\">Jacob Smith</td>\n",
        "        <td style=\"padding-left: 1em; padding-right: 1em; text-align: center; vertical-align: top\">Forrest Gump</td>\n",
        "        <td style=\"padding-left: 1em; padding-right: 1em; text-align: center; vertical-align: top\">3</td>\n",
        "    </tr>\n",
        "    <tr>\n",
        "        <td style=\"padding-left: 1em; padding-right: 1em; text-align: center; vertical-align: top\">Jacob Smith</td>\n",
        "        <td style=\"padding-left: 1em; padding-right: 1em; text-align: center; vertical-align: top\">It Happened One Night</td>\n",
        "        <td style=\"padding-left: 1em; padding-right: 1em; text-align: center; vertical-align: top\">4</td>\n",
        "    </tr>\n",
        "</table>\n",
        "[10 rows x 3 columns]<br/>\n",
        "</div>"
       ],
       "metadata": {},
       "output_type": "pyout",
       "prompt_number": 10,
       "text": [
        "Columns:\n",
        "\tuser\tstr\n",
        "\tmovie\tstr\n",
        "\trating\tint\n",
        "\n",
        "Rows: 10\n",
        "\n",
        "Data:\n",
        "+-------------+-------------------------------+--------+\n",
        "|     user    |             movie             | rating |\n",
        "+-------------+-------------------------------+--------+\n",
        "| Jacob Smith |     Flirting with Disaster    |   4    |\n",
        "| Jacob Smith |       Indecent Proposal       |   3    |\n",
        "| Jacob Smith |         Runaway Bride         |   2    |\n",
        "| Jacob Smith |     Swiss Family Robinson     |   1    |\n",
        "| Jacob Smith |          The Mexican          |   2    |\n",
        "| Jacob Smith |       Maid in Manhattan       |   4    |\n",
        "| Jacob Smith | A Charlie Brown Thanksgivi... |   3    |\n",
        "| Jacob Smith |             Brazil            |   1    |\n",
        "| Jacob Smith |          Forrest Gump         |   3    |\n",
        "| Jacob Smith |     It Happened One Night     |   4    |\n",
        "+-------------+-------------------------------+--------+\n",
        "[10 rows x 3 columns]"
       ]
      }
     ],
     "prompt_number": 10
    },
    {
     "cell_type": "code",
     "collapsed": false,
     "input": [
      "model = graphlab.recommender.create(data, user_id=\"user\", item_id=\"movie\", target=\"rating\")\n",
      "\n"
     ],
     "language": "python",
     "metadata": {},
     "outputs": [
      {
       "html": [
        "<pre>PROGRESS: Recsys training: model = ranking_factorization_recommender</pre>"
       ],
       "metadata": {},
       "output_type": "display_data",
       "text": [
        "PROGRESS: Recsys training: model = ranking_factorization_recommender"
       ]
      },
      {
       "html": [
        "<pre>PROGRESS: Preparing data set.</pre>"
       ],
       "metadata": {},
       "output_type": "display_data",
       "text": [
        "PROGRESS: Preparing data set."
       ]
      },
      {
       "html": [
        "<pre>PROGRESS:     Data has 82068 observations with 334 users and 7714 items.</pre>"
       ],
       "metadata": {},
       "output_type": "display_data",
       "text": [
        "PROGRESS:     Data has 82068 observations with 334 users and 7714 items."
       ]
      },
      {
       "html": [
        "<pre>PROGRESS:     Data prepared in: 0.233966s</pre>"
       ],
       "metadata": {},
       "output_type": "display_data",
       "text": [
        "PROGRESS:     Data prepared in: 0.233966s"
       ]
      },
      {
       "html": [
        "<pre>PROGRESS: Training ranking_factorization_recommender for recommendations.</pre>"
       ],
       "metadata": {},
       "output_type": "display_data",
       "text": [
        "PROGRESS: Training ranking_factorization_recommender for recommendations."
       ]
      },
      {
       "html": [
        "<pre>PROGRESS: +--------------------------------+--------------------------------------------------+----------+</pre>"
       ],
       "metadata": {},
       "output_type": "display_data",
       "text": [
        "PROGRESS: +--------------------------------+--------------------------------------------------+----------+"
       ]
      },
      {
       "html": [
        "<pre>PROGRESS: | Parameter                      | Description                                      | Value    |</pre>"
       ],
       "metadata": {},
       "output_type": "display_data",
       "text": [
        "PROGRESS: | Parameter                      | Description                                      | Value    |"
       ]
      },
      {
       "html": [
        "<pre>PROGRESS: +--------------------------------+--------------------------------------------------+----------+</pre>"
       ],
       "metadata": {},
       "output_type": "display_data",
       "text": [
        "PROGRESS: +--------------------------------+--------------------------------------------------+----------+"
       ]
      },
      {
       "html": [
        "<pre>PROGRESS: | num_factors                    | Factor Dimension                                 | 32       |</pre>"
       ],
       "metadata": {},
       "output_type": "display_data",
       "text": [
        "PROGRESS: | num_factors                    | Factor Dimension                                 | 32       |"
       ]
      },
      {
       "html": [
        "<pre>PROGRESS: | regularization                 | L2 Regularization on Factors                     | 1e-09    |</pre>"
       ],
       "metadata": {},
       "output_type": "display_data",
       "text": [
        "PROGRESS: | regularization                 | L2 Regularization on Factors                     | 1e-09    |"
       ]
      },
      {
       "html": [
        "<pre>PROGRESS: | solver                         | Solver used for training                         | sgd      |</pre>"
       ],
       "metadata": {},
       "output_type": "display_data",
       "text": [
        "PROGRESS: | solver                         | Solver used for training                         | sgd      |"
       ]
      },
      {
       "html": [
        "<pre>PROGRESS: | linear_regularization          | L2 Regularization on Linear Coefficients         | 1e-09    |</pre>"
       ],
       "metadata": {},
       "output_type": "display_data",
       "text": [
        "PROGRESS: | linear_regularization          | L2 Regularization on Linear Coefficients         | 1e-09    |"
       ]
      },
      {
       "html": [
        "<pre>PROGRESS: | ranking_regularization         | Rank-based Regularization Weight                 | 0.25     |</pre>"
       ],
       "metadata": {},
       "output_type": "display_data",
       "text": [
        "PROGRESS: | ranking_regularization         | Rank-based Regularization Weight                 | 0.25     |"
       ]
      },
      {
       "html": [
        "<pre>PROGRESS: | max_iterations                 | Maximum Number of Iterations                     | 25       |</pre>"
       ],
       "metadata": {},
       "output_type": "display_data",
       "text": [
        "PROGRESS: | max_iterations                 | Maximum Number of Iterations                     | 25       |"
       ]
      },
      {
       "html": [
        "<pre>PROGRESS: +--------------------------------+--------------------------------------------------+----------+</pre>"
       ],
       "metadata": {},
       "output_type": "display_data",
       "text": [
        "PROGRESS: +--------------------------------+--------------------------------------------------+----------+"
       ]
      },
      {
       "html": [
        "<pre>PROGRESS:   Optimizing model using SGD; tuning step size.</pre>"
       ],
       "metadata": {},
       "output_type": "display_data",
       "text": [
        "PROGRESS:   Optimizing model using SGD; tuning step size."
       ]
      },
      {
       "html": [
        "<pre>PROGRESS:   Using 10258 / 82068 points for tuning the step size.</pre>"
       ],
       "metadata": {},
       "output_type": "display_data",
       "text": [
        "PROGRESS:   Using 10258 / 82068 points for tuning the step size."
       ]
      },
      {
       "html": [
        "<pre>PROGRESS: +---------+-------------------+------------------------------------------+</pre>"
       ],
       "metadata": {},
       "output_type": "display_data",
       "text": [
        "PROGRESS: +---------+-------------------+------------------------------------------+"
       ]
      },
      {
       "html": [
        "<pre>PROGRESS: | Attempt | Initial Step Size | Estimated Objective Value                |</pre>"
       ],
       "metadata": {},
       "output_type": "display_data",
       "text": [
        "PROGRESS: | Attempt | Initial Step Size | Estimated Objective Value                |"
       ]
      },
      {
       "html": [
        "<pre>PROGRESS: +---------+-------------------+------------------------------------------+</pre>"
       ],
       "metadata": {},
       "output_type": "display_data",
       "text": [
        "PROGRESS: +---------+-------------------+------------------------------------------+"
       ]
      },
      {
       "html": [
        "<pre>PROGRESS: | 0       | 25                | Not Viable                               |</pre>"
       ],
       "metadata": {},
       "output_type": "display_data",
       "text": [
        "PROGRESS: | 0       | 25                | Not Viable                               |"
       ]
      },
      {
       "html": [
        "<pre>PROGRESS: | 1       | 6.25              | Not Viable                               |</pre>"
       ],
       "metadata": {},
       "output_type": "display_data",
       "text": [
        "PROGRESS: | 1       | 6.25              | Not Viable                               |"
       ]
      },
      {
       "html": [
        "<pre>PROGRESS: | 2       | 1.5625            | Not Viable                               |</pre>"
       ],
       "metadata": {},
       "output_type": "display_data",
       "text": [
        "PROGRESS: | 2       | 1.5625            | Not Viable                               |"
       ]
      },
      {
       "html": [
        "<pre>PROGRESS: | 3       | 0.390625          | Not Viable                               |</pre>"
       ],
       "metadata": {},
       "output_type": "display_data",
       "text": [
        "PROGRESS: | 3       | 0.390625          | Not Viable                               |"
       ]
      },
      {
       "html": [
        "<pre>PROGRESS: | 4       | 0.0976562         | 1.63                                     |</pre>"
       ],
       "metadata": {},
       "output_type": "display_data",
       "text": [
        "PROGRESS: | 4       | 0.0976562         | 1.63                                     |"
       ]
      },
      {
       "html": [
        "<pre>PROGRESS: | 5       | 0.0488281         | 1.6766                                   |</pre>"
       ],
       "metadata": {},
       "output_type": "display_data",
       "text": [
        "PROGRESS: | 5       | 0.0488281         | 1.6766                                   |"
       ]
      },
      {
       "html": [
        "<pre>PROGRESS: | 6       | 0.0244141         | 1.74662                                  |</pre>"
       ],
       "metadata": {},
       "output_type": "display_data",
       "text": [
        "PROGRESS: | 6       | 0.0244141         | 1.74662                                  |"
       ]
      },
      {
       "html": [
        "<pre>PROGRESS: | 7       | 0.012207          | 1.82607                                  |</pre>"
       ],
       "metadata": {},
       "output_type": "display_data",
       "text": [
        "PROGRESS: | 7       | 0.012207          | 1.82607                                  |"
       ]
      },
      {
       "html": [
        "<pre>PROGRESS: +---------+-------------------+------------------------------------------+</pre>"
       ],
       "metadata": {},
       "output_type": "display_data",
       "text": [
        "PROGRESS: +---------+-------------------+------------------------------------------+"
       ]
      },
      {
       "html": [
        "<pre>PROGRESS: | Final   | 0.0976562         | 1.63                                     |</pre>"
       ],
       "metadata": {},
       "output_type": "display_data",
       "text": [
        "PROGRESS: | Final   | 0.0976562         | 1.63                                     |"
       ]
      },
      {
       "html": [
        "<pre>PROGRESS: +---------+-------------------+------------------------------------------+</pre>"
       ],
       "metadata": {},
       "output_type": "display_data",
       "text": [
        "PROGRESS: +---------+-------------------+------------------------------------------+"
       ]
      },
      {
       "html": [
        "<pre>PROGRESS: Starting Optimization.</pre>"
       ],
       "metadata": {},
       "output_type": "display_data",
       "text": [
        "PROGRESS: Starting Optimization."
       ]
      },
      {
       "html": [
        "<pre>PROGRESS: +---------+--------------+-------------------+-----------------------+-------------+</pre>"
       ],
       "metadata": {},
       "output_type": "display_data",
       "text": [
        "PROGRESS: +---------+--------------+-------------------+-----------------------+-------------+"
       ]
      },
      {
       "html": [
        "<pre>PROGRESS: | Iter.   | Elapsed Time | Approx. Objective | Approx. Training RMSE | Step Size   |</pre>"
       ],
       "metadata": {},
       "output_type": "display_data",
       "text": [
        "PROGRESS: | Iter.   | Elapsed Time | Approx. Objective | Approx. Training RMSE | Step Size   |"
       ]
      },
      {
       "html": [
        "<pre>PROGRESS: +---------+--------------+-------------------+-----------------------+-------------+</pre>"
       ],
       "metadata": {},
       "output_type": "display_data",
       "text": [
        "PROGRESS: +---------+--------------+-------------------+-----------------------+-------------+"
       ]
      },
      {
       "html": [
        "<pre>PROGRESS: | Initial | 483us        | 2.40075           | 1.10654               |             |</pre>"
       ],
       "metadata": {},
       "output_type": "display_data",
       "text": [
        "PROGRESS: | Initial | 483us        | 2.40075           | 1.10654               |             |"
       ]
      },
      {
       "html": [
        "<pre>PROGRESS: +---------+--------------+-------------------+-----------------------+-------------+</pre>"
       ],
       "metadata": {},
       "output_type": "display_data",
       "text": [
        "PROGRESS: +---------+--------------+-------------------+-----------------------+-------------+"
       ]
      },
      {
       "html": [
        "<pre>PROGRESS: | 1       | 168.437ms    | 2.01838           | 1.13573               | 0.0976562   |</pre>"
       ],
       "metadata": {},
       "output_type": "display_data",
       "text": [
        "PROGRESS: | 1       | 168.437ms    | 2.01838           | 1.13573               | 0.0976562   |"
       ]
      },
      {
       "html": [
        "<pre>PROGRESS: | 2       | 522.705ms    | 1.77842           | 1.06632               | 0.0580668   |</pre>"
       ],
       "metadata": {},
       "output_type": "display_data",
       "text": [
        "PROGRESS: | 2       | 522.705ms    | 1.77842           | 1.06632               | 0.0580668   |"
       ]
      },
      {
       "html": [
        "<pre>PROGRESS: | 3       | 681.267ms    | 1.55978           | 0.989226              | 0.042841    |</pre>"
       ],
       "metadata": {},
       "output_type": "display_data",
       "text": [
        "PROGRESS: | 3       | 681.267ms    | 1.55978           | 0.989226              | 0.042841    |"
       ]
      },
      {
       "html": [
        "<pre>PROGRESS: | 4       | 837.248ms    | 1.37126           | 0.911227              | 0.0345267   |</pre>"
       ],
       "metadata": {},
       "output_type": "display_data",
       "text": [
        "PROGRESS: | 4       | 837.248ms    | 1.37126           | 0.911227              | 0.0345267   |"
       ]
      },
      {
       "html": [
        "<pre>PROGRESS: | 5       | 1.10s        | 1.19963           | 0.837324              | 0.029206    |</pre>"
       ],
       "metadata": {},
       "output_type": "display_data",
       "text": [
        "PROGRESS: | 5       | 1.10s        | 1.19963           | 0.837324              | 0.029206    |"
       ]
      },
      {
       "html": [
        "<pre>PROGRESS: | 6       | 1.25s        | 1.04848           | 0.768064              | 0.0254734   |</pre>"
       ],
       "metadata": {},
       "output_type": "display_data",
       "text": [
        "PROGRESS: | 6       | 1.25s        | 1.04848           | 0.768064              | 0.0254734   |"
       ]
      },
      {
       "html": [
        "<pre>PROGRESS: | 10      | 1.90s        | 0.713933          | 0.603526              | 0.017366    |</pre>"
       ],
       "metadata": {},
       "output_type": "display_data",
       "text": [
        "PROGRESS: | 10      | 1.90s        | 0.713933          | 0.603526              | 0.017366    |"
       ]
      },
      {
       "html": [
        "<pre>PROGRESS: | 11      | 2.03s        | 0.671929          | 0.581508              | 0.016168    |</pre>"
       ],
       "metadata": {},
       "output_type": "display_data",
       "text": [
        "PROGRESS: | 11      | 2.03s        | 0.671929          | 0.581508              | 0.016168    |"
       ]
      },
      {
       "html": [
        "<pre>PROGRESS: | 15      | 2.60s        | 0.573318          | 0.52893               | 0.0128124   |</pre>"
       ],
       "metadata": {},
       "output_type": "display_data",
       "text": [
        "PROGRESS: | 15      | 2.60s        | 0.573318          | 0.52893               | 0.0128124   |"
       ]
      },
      {
       "html": [
        "<pre>PROGRESS: | 20      | 3.35s        | 0.519844          | 0.495928              | 0.0103259   |</pre>"
       ],
       "metadata": {},
       "output_type": "display_data",
       "text": [
        "PROGRESS: | 20      | 3.35s        | 0.519844          | 0.495928              | 0.0103259   |"
       ]
      },
      {
       "html": [
        "<pre>PROGRESS: | 25      | 4.27s        | 0.484225          | 0.476358              | 0.00873464  |</pre>"
       ],
       "metadata": {},
       "output_type": "display_data",
       "text": [
        "PROGRESS: | 25      | 4.27s        | 0.484225          | 0.476358              | 0.00873464  |"
       ]
      },
      {
       "html": [
        "<pre>PROGRESS: +---------+--------------+-------------------+-----------------------+-------------+</pre>"
       ],
       "metadata": {},
       "output_type": "display_data",
       "text": [
        "PROGRESS: +---------+--------------+-------------------+-----------------------+-------------+"
       ]
      },
      {
       "html": [
        "<pre>PROGRESS: Optimization Complete: Maximum number of passes through the data reached.</pre>"
       ],
       "metadata": {},
       "output_type": "display_data",
       "text": [
        "PROGRESS: Optimization Complete: Maximum number of passes through the data reached."
       ]
      },
      {
       "html": [
        "<pre>PROGRESS: Computing final objective value and training RMSE.</pre>"
       ],
       "metadata": {},
       "output_type": "display_data",
       "text": [
        "PROGRESS: Computing final objective value and training RMSE."
       ]
      },
      {
       "html": [
        "<pre>PROGRESS:        Final objective value: 0.44314</pre>"
       ],
       "metadata": {},
       "output_type": "display_data",
       "text": [
        "PROGRESS:        Final objective value: 0.44314"
       ]
      },
      {
       "html": [
        "<pre>PROGRESS:        Final training RMSE: 0.417404</pre>"
       ],
       "metadata": {},
       "output_type": "display_data",
       "text": [
        "PROGRESS:        Final training RMSE: 0.417404"
       ]
      }
     ],
     "prompt_number": 11
    },
    {
     "cell_type": "code",
     "collapsed": false,
     "input": [
      "results = model.recommend(users=['Mason Smith','Jacob Smith'], k=50)\n",
      "#results.head()\n",
      "print results\n",
      "results.print_rows(num_rows=100)"
     ],
     "language": "python",
     "metadata": {},
     "outputs": [
      {
       "output_type": "stream",
       "stream": "stdout",
       "text": [
        "+-------------+-------------------+---------------+------+\n",
        "|     user    |       movie       |     score     | rank |\n",
        "+-------------+-------------------+---------------+------+\n",
        "| Mason Smith |  The Fisher King  | 9.59654532469 |  1   |\n",
        "| Mason Smith | Napoleon Dynamite |  9.5271159271 |  2   |\n",
        "| Mason Smith |      Rushmore     | 9.15743838346 |  3   |\n",
        "| Mason Smith |    Talk to Her    | 9.10097895658 |  4   |\n",
        "| Mason Smith |    Phone Booth    | 8.71966897047 |  5   |\n",
        "| Mason Smith |   The Terminator  | 8.42760621107 |  6   |\n",
        "| Mason Smith |  Schindler's List | 8.34134303129 |  7   |\n",
        "| Mason Smith |   Broadcast News  | 8.22515736616 |  8   |\n",
        "| Mason Smith |  Dangerous Minds  | 8.19751440084 |  9   |\n",
        "| Mason Smith |     The Hours     | 8.07926856077 |  10  |\n",
        "|     ...     |        ...        |      ...      | ...  |\n",
        "+-------------+-------------------+---------------+------+\n",
        "[100 rows x 4 columns]\n",
        "Note: Only the head of the SFrame is printed.\n",
        "You can use print_rows(num_rows=m, num_columns=n) to print more rows and columns.\n",
        "+-------------+-------------------------------+---------------+------+\n",
        "|     user    |             movie             |     score     | rank |\n",
        "+-------------+-------------------------------+---------------+------+\n",
        "| Mason Smith |        The Fisher King        | 9.59654532469 |  1   |\n",
        "| Mason Smith |       Napoleon Dynamite       |  9.5271159271 |  2   |\n",
        "| Mason Smith |            Rushmore           | 9.15743838346 |  3   |\n",
        "| Mason Smith |          Talk to Her          | 9.10097895658 |  4   |\n",
        "| Mason Smith |          Phone Booth          | 8.71966897047 |  5   |\n",
        "| Mason Smith |         The Terminator        | 8.42760621107 |  6   |\n",
        "| Mason Smith |        Schindler's List       | 8.34134303129 |  7   |\n",
        "| Mason Smith |         Broadcast News        | 8.22515736616 |  8   |\n",
        "| Mason Smith |        Dangerous Minds        | 8.19751440084 |  9   |\n",
        "| Mason Smith |           The Hours           | 8.07926856077 |  10  |\n",
        "| Mason Smith |   Aladdin: Platinum Edition   | 8.01704989469 |  11  |\n",
        "| Mason Smith |           Roger & Me          | 8.01106892622 |  12  |\n",
        "| Mason Smith |          Ghost World          | 7.99036894834 |  13  |\n",
        "| Mason Smith | Pirates of the Caribbean: ... |  7.817121611  |  14  |\n",
        "| Mason Smith |            Sabrina            | 7.77275310552 |  15  |\n",
        "| Mason Smith |   The People vs. Larry Flynt  | 7.73882089651 |  16  |\n",
        "| Mason Smith |        A Beautiful Mind       | 7.65477310217 |  17  |\n",
        "| Mason Smith | Lord of the Rings: The Fel... | 7.65204297102 |  18  |\n",
        "| Mason Smith |           Seabiscuit          | 7.64106427229 |  19  |\n",
        "| Mason Smith |     Bridget Jones's Diary     | 7.63056908644 |  20  |\n",
        "| Mason Smith |        Some Like It Hot       | 7.62006555593 |  21  |\n",
        "| Mason Smith |     The NeverEnding Story     | 7.61827407873 |  22  |\n",
        "| Mason Smith |         Love Actually         | 7.60448680914 |  23  |\n",
        "| Mason Smith |          The Pianist          | 7.55157862699 |  24  |\n",
        "| Mason Smith |      Reversal of Fortune      | 7.46652160681 |  25  |\n",
        "| Mason Smith |         Boys Don't Cry        | 7.46389018095 |  26  |\n",
        "| Mason Smith |          Best in Show         | 7.40362034834 |  27  |\n",
        "| Mason Smith |          The Aviator          | 7.37853919065 |  28  |\n",
        "| Mason Smith |           Shark Tale          | 7.34924875295 |  29  |\n",
        "| Mason Smith |          Deliverance          | 7.34540616072 |  30  |\n",
        "| Mason Smith |       Deadwood: Season 1      |  7.3251958946 |  31  |\n",
        "| Mason Smith |         The Odd Couple        | 7.31863819158 |  32  |\n",
        "| Mason Smith |           Collateral          | 7.31415115392 |  33  |\n",
        "| Mason Smith |         About Schmidt         | 7.31134186781 |  34  |\n",
        "| Mason Smith |         Lonesome Dove         | 7.28905712164 |  35  |\n",
        "| Mason Smith |              Ray              | 7.28763185537 |  36  |\n",
        "| Mason Smith |           The Others          | 7.25774584806 |  37  |\n",
        "| Mason Smith |             Gandhi            | 7.21252022779 |  38  |\n",
        "| Mason Smith |       The Office Special      | 7.18976651228 |  39  |\n",
        "| Mason Smith | The Hitchhiker's Guide to ... | 7.18759380377 |  40  |\n",
        "| Mason Smith |         The Family Man        | 7.18458806074 |  41  |\n",
        "| Mason Smith |     The Cider House Rules     | 7.18413983381 |  42  |\n",
        "| Mason Smith |       The Mask of Zorro       | 7.18015228308 |  43  |\n",
        "| Mason Smith |      To Have and Have Not     | 7.17536364591 |  44  |\n",
        "| Mason Smith | Lord of the Rings: The Ret... | 7.16641818083 |  45  |\n",
        "| Mason Smith |      Bride and Prejudice      |  7.1633187393 |  46  |\n",
        "| Mason Smith |  What's Eating Gilbert Grape  | 7.15751181639 |  47  |\n",
        "| Mason Smith |         Black Adder II        |  7.1293533901 |  48  |\n",
        "| Mason Smith | Harold and Kumar Go to Whi... | 7.10013924635 |  49  |\n",
        "| Mason Smith | Lord of the Rings: The Two... | 7.09953270948 |  50  |\n",
        "| Jacob Smith |       Waking Ned Devine       | 8.33790932691 |  1   |\n",
        "| Jacob Smith |     Bridget Jones's Diary     | 8.13094793356 |  2   |\n",
        "| Jacob Smith |          24: Season 1         | 7.96022139585 |  3   |\n",
        "| Jacob Smith |        Schindler's List       | 7.93569575346 |  4   |\n",
        "| Jacob Smith |        Of Mice and Men        | 7.91320906675 |  5   |\n",
        "| Jacob Smith |      Pride and Prejudice      |  7.8863240341 |  6   |\n",
        "| Jacob Smith |           The Sting           | 7.76669608152 |  7   |\n",
        "| Jacob Smith |    The Diary of Anne Frank    | 7.58640419042 |  8   |\n",
        "| Jacob Smith |             Shine             | 7.57493840254 |  9   |\n",
        "| Jacob Smith | Sex and the City: Season 6... | 7.51873646772 |  10  |\n",
        "| Jacob Smith |         Dirty Dancing         | 7.48839746511 |  11  |\n",
        "| Jacob Smith |        Men in Black II        | 7.46131311453 |  12  |\n",
        "| Jacob Smith |         Thirteen Days         | 7.45052157438 |  13  |\n",
        "| Jacob Smith |            Monsters           | 7.44805418051 |  14  |\n",
        "| Jacob Smith |   Sex and the City: Season 2  | 7.43637929952 |  15  |\n",
        "| Jacob Smith |   Sex and the City: Season 1  | 7.42794524229 |  16  |\n",
        "| Jacob Smith |      When Harry Met Sally     | 7.40459548033 |  17  |\n",
        "| Jacob Smith |        The Goodbye Girl       |  7.3943751911 |  18  |\n",
        "| Jacob Smith |   Sex and the City: Season 3  | 7.39169846571 |  19  |\n",
        "| Jacob Smith |         The Green Mile        | 7.39062653578 |  20  |\n",
        "| Jacob Smith |        Shall We Dance?        | 7.36650644338 |  21  |\n",
        "| Jacob Smith |            Die Hard           | 7.36163960493 |  22  |\n",
        "| Jacob Smith | The Shawshank Redemption: ... | 7.36078034437 |  23  |\n",
        "| Jacob Smith | Butch Cassidy and the Sund... | 7.35186444319 |  24  |\n",
        "| Jacob Smith |        The Last Emperor       | 7.34855686224 |  25  |\n",
        "| Jacob Smith |           Cape Fear           | 7.34246836698 |  26  |\n",
        "| Jacob Smith |           Malcolm X           | 7.33467374838 |  27  |\n",
        "| Jacob Smith |             Amelie            |  7.2761238674 |  28  |\n",
        "| Jacob Smith | Indiana Jones and the Last... | 7.25647388494 |  29  |\n",
        "| Jacob Smith |              Ray              | 7.23141656912 |  30  |\n",
        "| Jacob Smith |           Spanglish           | 7.19664155042 |  31  |\n",
        "| Jacob Smith |          Serendipity          | 7.19520627058 |  32  |\n",
        "| Jacob Smith |            The Jerk           | 7.19188533819 |  33  |\n",
        "| Jacob Smith |    Raiders of the Lost Ark    | 7.17897878683 |  34  |\n",
        "| Jacob Smith |     Bowling for Columbine     | 7.17325697935 |  35  |\n",
        "| Jacob Smith |           Caddyshack          | 7.17097197569 |  36  |\n",
        "| Jacob Smith |      The Nutty Professor      | 7.16589985884 |  37  |\n",
        "| Jacob Smith |    Not Without My Daughter    | 7.15912138021 |  38  |\n",
        "| Jacob Smith |    Crimes and Misdemeanors    | 7.15189848936 |  39  |\n",
        "| Jacob Smith |      Beauty and the Beast     | 7.14396225012 |  40  |\n",
        "| Jacob Smith |          Billy Elliot         |  7.1303428272 |  41  |\n",
        "| Jacob Smith |          Auntie Mame          | 7.12998496092 |  42  |\n",
        "| Jacob Smith |        The Way We Were        | 7.11735473669 |  43  |\n",
        "| Jacob Smith |       The Joy Luck Club       | 7.09496723211 |  44  |\n",
        "| Jacob Smith |        Fahrenheit 9/11        |  7.0806690315 |  45  |\n",
        "| Jacob Smith |            Chocolat           | 7.07372580564 |  46  |\n",
        "| Jacob Smith |   Girl with a Pearl Earring   | 7.06776104963 |  47  |\n",
        "| Jacob Smith |         Primary Colors        | 7.06768833196 |  48  |\n",
        "| Jacob Smith | The Treasure of the Sierra... | 7.06498013532 |  49  |\n",
        "| Jacob Smith |  Mr. Smith Goes to Washington | 7.06272350347 |  50  |\n",
        "+-------------+-------------------------------+---------------+------+\n",
        "[100 rows x 4 columns]\n"
       ]
      },
      {
       "output_type": "stream",
       "stream": "stdout",
       "text": [
        "\n"
       ]
      }
     ],
     "prompt_number": 21
    },
    {
     "cell_type": "code",
     "collapsed": false,
     "input": [
      "model.save(\"my_model\")\n"
     ],
     "language": "python",
     "metadata": {},
     "outputs": [],
     "prompt_number": 17
    },
    {
     "cell_type": "code",
     "collapsed": false,
     "input": [
      "#load saved model\n",
      "loaded_model = gl.load_model('my_model')"
     ],
     "language": "python",
     "metadata": {},
     "outputs": []
    }
   ],
   "metadata": {}
  }
 ]
}